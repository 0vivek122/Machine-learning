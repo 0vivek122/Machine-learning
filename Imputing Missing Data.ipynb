{
 "cells": [
  {
   "cell_type": "markdown",
   "id": "701520aa",
   "metadata": {},
   "source": [
    "# Imputing Missing Data"
   ]
  },
  {
   "cell_type": "raw",
   "id": "c4863951",
   "metadata": {},
   "source": [
    "The act of replacing missing data with statistical estimates of missing values is\n",
    "called imputation.The goal of any imputation technique is to produce a complete\n",
    "dataset that can be used to train machine learning models. There are multiple imputation\n",
    "techniques we can apply to our data. The choice of imputation technique we use will\n",
    "depend on whether the data is missing at random, the number of missing values, and the\n",
    "machine learning model we intend to use"
   ]
  },
  {
   "cell_type": "code",
   "execution_count": 1,
   "id": "e0545974",
   "metadata": {},
   "outputs": [],
   "source": [
    "import random\n",
    "import pandas as p\n",
    "import numpy as n"
   ]
  },
  {
   "cell_type": "markdown",
   "id": "4eeb5345",
   "metadata": {},
   "source": [
    "# Data cleaning"
   ]
  },
  {
   "cell_type": "code",
   "execution_count": 2,
   "id": "cd105545",
   "metadata": {},
   "outputs": [],
   "source": [
    "df=p.read_csv('crx.data',header=None) #reading file"
   ]
  },
  {
   "cell_type": "code",
   "execution_count": 3,
   "id": "58bf68de",
   "metadata": {},
   "outputs": [
    {
     "data": {
      "text/html": [
       "<div>\n",
       "<style scoped>\n",
       "    .dataframe tbody tr th:only-of-type {\n",
       "        vertical-align: middle;\n",
       "    }\n",
       "\n",
       "    .dataframe tbody tr th {\n",
       "        vertical-align: top;\n",
       "    }\n",
       "\n",
       "    .dataframe thead th {\n",
       "        text-align: right;\n",
       "    }\n",
       "</style>\n",
       "<table border=\"1\" class=\"dataframe\">\n",
       "  <thead>\n",
       "    <tr style=\"text-align: right;\">\n",
       "      <th></th>\n",
       "      <th>0</th>\n",
       "      <th>1</th>\n",
       "      <th>2</th>\n",
       "      <th>3</th>\n",
       "      <th>4</th>\n",
       "      <th>5</th>\n",
       "      <th>6</th>\n",
       "      <th>7</th>\n",
       "      <th>8</th>\n",
       "      <th>9</th>\n",
       "      <th>10</th>\n",
       "      <th>11</th>\n",
       "      <th>12</th>\n",
       "      <th>13</th>\n",
       "      <th>14</th>\n",
       "      <th>15</th>\n",
       "    </tr>\n",
       "  </thead>\n",
       "  <tbody>\n",
       "    <tr>\n",
       "      <th>0</th>\n",
       "      <td>b</td>\n",
       "      <td>30.83</td>\n",
       "      <td>0.000</td>\n",
       "      <td>u</td>\n",
       "      <td>g</td>\n",
       "      <td>w</td>\n",
       "      <td>v</td>\n",
       "      <td>1.25</td>\n",
       "      <td>t</td>\n",
       "      <td>t</td>\n",
       "      <td>1</td>\n",
       "      <td>f</td>\n",
       "      <td>g</td>\n",
       "      <td>00202</td>\n",
       "      <td>0</td>\n",
       "      <td>+</td>\n",
       "    </tr>\n",
       "    <tr>\n",
       "      <th>1</th>\n",
       "      <td>a</td>\n",
       "      <td>58.67</td>\n",
       "      <td>4.460</td>\n",
       "      <td>u</td>\n",
       "      <td>g</td>\n",
       "      <td>q</td>\n",
       "      <td>h</td>\n",
       "      <td>3.04</td>\n",
       "      <td>t</td>\n",
       "      <td>t</td>\n",
       "      <td>6</td>\n",
       "      <td>f</td>\n",
       "      <td>g</td>\n",
       "      <td>00043</td>\n",
       "      <td>560</td>\n",
       "      <td>+</td>\n",
       "    </tr>\n",
       "    <tr>\n",
       "      <th>2</th>\n",
       "      <td>a</td>\n",
       "      <td>24.50</td>\n",
       "      <td>0.500</td>\n",
       "      <td>u</td>\n",
       "      <td>g</td>\n",
       "      <td>q</td>\n",
       "      <td>h</td>\n",
       "      <td>1.50</td>\n",
       "      <td>t</td>\n",
       "      <td>f</td>\n",
       "      <td>0</td>\n",
       "      <td>f</td>\n",
       "      <td>g</td>\n",
       "      <td>00280</td>\n",
       "      <td>824</td>\n",
       "      <td>+</td>\n",
       "    </tr>\n",
       "    <tr>\n",
       "      <th>3</th>\n",
       "      <td>b</td>\n",
       "      <td>27.83</td>\n",
       "      <td>1.540</td>\n",
       "      <td>u</td>\n",
       "      <td>g</td>\n",
       "      <td>w</td>\n",
       "      <td>v</td>\n",
       "      <td>3.75</td>\n",
       "      <td>t</td>\n",
       "      <td>t</td>\n",
       "      <td>5</td>\n",
       "      <td>t</td>\n",
       "      <td>g</td>\n",
       "      <td>00100</td>\n",
       "      <td>3</td>\n",
       "      <td>+</td>\n",
       "    </tr>\n",
       "    <tr>\n",
       "      <th>4</th>\n",
       "      <td>b</td>\n",
       "      <td>20.17</td>\n",
       "      <td>5.625</td>\n",
       "      <td>u</td>\n",
       "      <td>g</td>\n",
       "      <td>w</td>\n",
       "      <td>v</td>\n",
       "      <td>1.71</td>\n",
       "      <td>t</td>\n",
       "      <td>f</td>\n",
       "      <td>0</td>\n",
       "      <td>f</td>\n",
       "      <td>s</td>\n",
       "      <td>00120</td>\n",
       "      <td>0</td>\n",
       "      <td>+</td>\n",
       "    </tr>\n",
       "  </tbody>\n",
       "</table>\n",
       "</div>"
      ],
      "text/plain": [
       "  0      1      2  3  4  5  6     7  8  9   10 11 12     13   14 15\n",
       "0  b  30.83  0.000  u  g  w  v  1.25  t  t   1  f  g  00202    0  +\n",
       "1  a  58.67  4.460  u  g  q  h  3.04  t  t   6  f  g  00043  560  +\n",
       "2  a  24.50  0.500  u  g  q  h  1.50  t  f   0  f  g  00280  824  +\n",
       "3  b  27.83  1.540  u  g  w  v  3.75  t  t   5  t  g  00100    3  +\n",
       "4  b  20.17  5.625  u  g  w  v  1.71  t  f   0  f  s  00120    0  +"
      ]
     },
     "execution_count": 3,
     "metadata": {},
     "output_type": "execute_result"
    }
   ],
   "source": [
    "df.head()"
   ]
  },
  {
   "cell_type": "code",
   "execution_count": 4,
   "id": "909ca403",
   "metadata": {},
   "outputs": [],
   "source": [
    "df.columns= ['A'+str(i) for i in range(1,len(df.columns)+1)] #Renaming the columns"
   ]
  },
  {
   "cell_type": "code",
   "execution_count": 5,
   "id": "ec1964b5",
   "metadata": {},
   "outputs": [
    {
     "data": {
      "text/html": [
       "<div>\n",
       "<style scoped>\n",
       "    .dataframe tbody tr th:only-of-type {\n",
       "        vertical-align: middle;\n",
       "    }\n",
       "\n",
       "    .dataframe tbody tr th {\n",
       "        vertical-align: top;\n",
       "    }\n",
       "\n",
       "    .dataframe thead th {\n",
       "        text-align: right;\n",
       "    }\n",
       "</style>\n",
       "<table border=\"1\" class=\"dataframe\">\n",
       "  <thead>\n",
       "    <tr style=\"text-align: right;\">\n",
       "      <th></th>\n",
       "      <th>A1</th>\n",
       "      <th>A2</th>\n",
       "      <th>A3</th>\n",
       "      <th>A4</th>\n",
       "      <th>A5</th>\n",
       "      <th>A6</th>\n",
       "      <th>A7</th>\n",
       "      <th>A8</th>\n",
       "      <th>A9</th>\n",
       "      <th>A10</th>\n",
       "      <th>A11</th>\n",
       "      <th>A12</th>\n",
       "      <th>A13</th>\n",
       "      <th>A14</th>\n",
       "      <th>A15</th>\n",
       "      <th>A16</th>\n",
       "    </tr>\n",
       "  </thead>\n",
       "  <tbody>\n",
       "    <tr>\n",
       "      <th>0</th>\n",
       "      <td>b</td>\n",
       "      <td>30.83</td>\n",
       "      <td>0.000</td>\n",
       "      <td>u</td>\n",
       "      <td>g</td>\n",
       "      <td>w</td>\n",
       "      <td>v</td>\n",
       "      <td>1.25</td>\n",
       "      <td>t</td>\n",
       "      <td>t</td>\n",
       "      <td>1</td>\n",
       "      <td>f</td>\n",
       "      <td>g</td>\n",
       "      <td>00202</td>\n",
       "      <td>0</td>\n",
       "      <td>+</td>\n",
       "    </tr>\n",
       "    <tr>\n",
       "      <th>1</th>\n",
       "      <td>a</td>\n",
       "      <td>58.67</td>\n",
       "      <td>4.460</td>\n",
       "      <td>u</td>\n",
       "      <td>g</td>\n",
       "      <td>q</td>\n",
       "      <td>h</td>\n",
       "      <td>3.04</td>\n",
       "      <td>t</td>\n",
       "      <td>t</td>\n",
       "      <td>6</td>\n",
       "      <td>f</td>\n",
       "      <td>g</td>\n",
       "      <td>00043</td>\n",
       "      <td>560</td>\n",
       "      <td>+</td>\n",
       "    </tr>\n",
       "    <tr>\n",
       "      <th>2</th>\n",
       "      <td>a</td>\n",
       "      <td>24.50</td>\n",
       "      <td>0.500</td>\n",
       "      <td>u</td>\n",
       "      <td>g</td>\n",
       "      <td>q</td>\n",
       "      <td>h</td>\n",
       "      <td>1.50</td>\n",
       "      <td>t</td>\n",
       "      <td>f</td>\n",
       "      <td>0</td>\n",
       "      <td>f</td>\n",
       "      <td>g</td>\n",
       "      <td>00280</td>\n",
       "      <td>824</td>\n",
       "      <td>+</td>\n",
       "    </tr>\n",
       "    <tr>\n",
       "      <th>3</th>\n",
       "      <td>b</td>\n",
       "      <td>27.83</td>\n",
       "      <td>1.540</td>\n",
       "      <td>u</td>\n",
       "      <td>g</td>\n",
       "      <td>w</td>\n",
       "      <td>v</td>\n",
       "      <td>3.75</td>\n",
       "      <td>t</td>\n",
       "      <td>t</td>\n",
       "      <td>5</td>\n",
       "      <td>t</td>\n",
       "      <td>g</td>\n",
       "      <td>00100</td>\n",
       "      <td>3</td>\n",
       "      <td>+</td>\n",
       "    </tr>\n",
       "    <tr>\n",
       "      <th>4</th>\n",
       "      <td>b</td>\n",
       "      <td>20.17</td>\n",
       "      <td>5.625</td>\n",
       "      <td>u</td>\n",
       "      <td>g</td>\n",
       "      <td>w</td>\n",
       "      <td>v</td>\n",
       "      <td>1.71</td>\n",
       "      <td>t</td>\n",
       "      <td>f</td>\n",
       "      <td>0</td>\n",
       "      <td>f</td>\n",
       "      <td>s</td>\n",
       "      <td>00120</td>\n",
       "      <td>0</td>\n",
       "      <td>+</td>\n",
       "    </tr>\n",
       "  </tbody>\n",
       "</table>\n",
       "</div>"
      ],
      "text/plain": [
       "  A1     A2     A3 A4 A5 A6 A7    A8 A9 A10  A11 A12 A13    A14  A15 A16\n",
       "0  b  30.83  0.000  u  g  w  v  1.25  t   t    1   f   g  00202    0   +\n",
       "1  a  58.67  4.460  u  g  q  h  3.04  t   t    6   f   g  00043  560   +\n",
       "2  a  24.50  0.500  u  g  q  h  1.50  t   f    0   f   g  00280  824   +\n",
       "3  b  27.83  1.540  u  g  w  v  3.75  t   t    5   t   g  00100    3   +\n",
       "4  b  20.17  5.625  u  g  w  v  1.71  t   f    0   f   s  00120    0   +"
      ]
     },
     "execution_count": 5,
     "metadata": {},
     "output_type": "execute_result"
    }
   ],
   "source": [
    "df.head()"
   ]
  },
  {
   "cell_type": "code",
   "execution_count": 6,
   "id": "63b60877",
   "metadata": {},
   "outputs": [],
   "source": [
    "df.replace('?',n.nan,inplace=True)\n",
    "df['A16'].replace(['+','-'],[1,0],inplace=True) #changing the data in  columns"
   ]
  },
  {
   "cell_type": "code",
   "execution_count": 7,
   "id": "019b3914",
   "metadata": {},
   "outputs": [],
   "source": [
    "#making the more missing values\n",
    "random.seed(9001)\n",
    "s=set([n.random.randint(0,len(df)) for i in range(100)])\n",
    "for i in ['A3', 'A8', 'A9', 'A10']:\n",
    "    df.loc[s,i]=n.nan\n"
   ]
  },
  {
   "cell_type": "code",
   "execution_count": 8,
   "id": "103c6935",
   "metadata": {},
   "outputs": [
    {
     "data": {
      "text/plain": [
       "423"
      ]
     },
     "execution_count": 8,
     "metadata": {},
     "output_type": "execute_result"
    }
   ],
   "source": [
    "df.isnull().sum().sum() #these much nul values we have"
   ]
  },
  {
   "cell_type": "code",
   "execution_count": 48,
   "id": "515aa36d",
   "metadata": {
    "scrolled": true
   },
   "outputs": [
    {
     "data": {
      "text/plain": [
       "A1      object\n",
       "A2      object\n",
       "A3     float64\n",
       "A4      object\n",
       "A5      object\n",
       "A6      object\n",
       "A7      object\n",
       "A8     float64\n",
       "A9      object\n",
       "A10     object\n",
       "A11      int64\n",
       "A12     object\n",
       "A13     object\n",
       "A14     object\n",
       "A15      int64\n",
       "A16      int64\n",
       "dtype: object"
      ]
     },
     "execution_count": 48,
     "metadata": {},
     "output_type": "execute_result"
    }
   ],
   "source": [
    "#changiing the datatypes\n",
    "df.dtypes"
   ]
  },
  {
   "cell_type": "code",
   "execution_count": 10,
   "id": "736a1d1c",
   "metadata": {},
   "outputs": [],
   "source": [
    "df['A2']=df['A2'].astype(float)\n",
    "df['A14']=df['A14'].astype(float)"
   ]
  },
  {
   "cell_type": "markdown",
   "id": "3d2a5825",
   "metadata": {},
   "source": [
    "# Removing observations with missing data"
   ]
  },
  {
   "cell_type": "raw",
   "id": "a1870f9c",
   "metadata": {},
   "source": [
    "Complete Case Analysis (CCA), also called list-wise deletion of cases, consists of discarding those observations where the values in any of the variables are missing. CCA can be applied to categorical and numerical variables. CCA is quick and easy to implement and has the advantage that it preserves the distribution of the variables, provided the data is missing at random and only a small proportion of the data is missing. However, if data is missing across many variables, CCA may lead to the removal  of a big portion of the dataset\n",
    "less than 5% of data should be missing and distribution after and before CCA should be simpler"
   ]
  },
  {
   "cell_type": "code",
   "execution_count": 35,
   "id": "33bfe5db",
   "metadata": {},
   "outputs": [
    {
     "data": {
      "text/plain": [
       "A3     13.768116\n",
       "A8     13.768116\n",
       "A9     13.768116\n",
       "A10    13.768116\n",
       "A14     1.884058\n",
       "A1      1.739130\n",
       "A2      1.739130\n",
       "A6      1.304348\n",
       "A7      1.304348\n",
       "A4      0.869565\n",
       "A5      0.869565\n",
       "A11     0.000000\n",
       "A12     0.000000\n",
       "A13     0.000000\n",
       "A15     0.000000\n",
       "A16     0.000000\n",
       "dtype: float64"
      ]
     },
     "execution_count": 35,
     "metadata": {},
     "output_type": "execute_result"
    }
   ],
   "source": [
    "df.isnull().mean().sort_values(ascending=False)*100 #percentage of null values of every column"
   ]
  },
  {
   "cell_type": "code",
   "execution_count": 39,
   "id": "aad96a6a",
   "metadata": {},
   "outputs": [
    {
     "name": "stdout",
     "output_type": "stream",
     "text": [
      "Number of column with null values 690\n",
      "Number of column after removing null values 562\n"
     ]
    }
   ],
   "source": [
    "#dropping the null values\n",
    "df1=df.dropna() #data with no null values\n",
    "print(f\"Number of column with null values {df.shape[0]}\")\n",
    "print(f\"Number of column after removing null values {df1.shape[0]}\")\n",
    "#number of row after removing the null values should be less as we can see\n"
   ]
  },
  {
   "cell_type": "markdown",
   "id": "db2df5f7",
   "metadata": {},
   "source": [
    "# Performing mean or median imputation"
   ]
  },
  {
   "cell_type": "raw",
   "id": "f28b3a83",
   "metadata": {},
   "source": [
    "Mean or median imputation consists of replacing missing values with the variable mean or median. This can only be performed in numerical variables. The mean or the median is calculated using a train set, and these values are used to impute missing data in train and test sets, as well as in future data we intend to score with the machine learning model.Therefore, we need to store these mean and median values\n",
    "Use mean imputation if variables are normally distributed and median imputation otherwise. Mean and median imputation may distort the distribution of the original variables if there is a high percentage of missing data.Disturb the correlation."
   ]
  },
  {
   "cell_type": "code",
   "execution_count": 12,
   "id": "498a44db",
   "metadata": {},
   "outputs": [],
   "source": [
    "#splitting the data before doing imputation because of data leakage\n",
    "from sklearn.model_selection import train_test_split\n",
    "X_train, X_test, y_train, y_test = train_test_split(\n",
    " df.drop('A16', axis=1), df['A16'], test_size=0.3,\n",
    " random_state=0)  "
   ]
  },
  {
   "cell_type": "code",
   "execution_count": 42,
   "id": "9dee37c4",
   "metadata": {},
   "outputs": [
    {
     "name": "stdout",
     "output_type": "stream",
     "text": [
      "X_train shape - (483, 15)\n",
      "X_test shape - (207, 15)\n",
      "y_train shape - (483,)\n",
      "y_test shape - (207,)\n"
     ]
    }
   ],
   "source": [
    "print(f'X_train shape - {X_train.shape}')\n",
    "print(f'X_test shape - {X_test.shape}')\n",
    "print(f'y_train shape - {y_train.shape}')\n",
    "print(f'y_test shape - {y_test.shape}')"
   ]
  },
  {
   "cell_type": "code",
   "execution_count": 44,
   "id": "72c319a5",
   "metadata": {},
   "outputs": [
    {
     "data": {
      "text/plain": [
       "A1      0.828157\n",
       "A2      2.277433\n",
       "A3     12.836439\n",
       "A4      0.828157\n",
       "A5      0.828157\n",
       "A6      0.828157\n",
       "A7      0.828157\n",
       "A8     12.836439\n",
       "A9     12.836439\n",
       "A10    12.836439\n",
       "A11     0.000000\n",
       "A12     0.000000\n",
       "A13     0.000000\n",
       "A14     1.449275\n",
       "A15     0.000000\n",
       "dtype: float64"
      ]
     },
     "execution_count": 44,
     "metadata": {},
     "output_type": "execute_result"
    }
   ],
   "source": [
    "X_train.isnull().mean()*100\n",
    "#percentage of null values in X_train data"
   ]
  },
  {
   "cell_type": "code",
   "execution_count": 13,
   "id": "9de5b84e",
   "metadata": {},
   "outputs": [],
   "source": [
    "#selecting the numerical columns\n",
    "num=[i for i in X_train.columns if X_train[i].dtype!='O']\n",
    "#selecting the categorical columns\n",
    "cat=[i for i in X_train.columns if X_train[i].dtype=='O']"
   ]
  },
  {
   "cell_type": "code",
   "execution_count": 27,
   "id": "0c719cb1",
   "metadata": {},
   "outputs": [],
   "source": [
    "#filling the numerical columns with mean \n",
    "for i in num:\n",
    "    X_train[i].fillna(X_train[i].mean(),inplace=True) #filling the train data with mean\n",
    "    X_test[i].fillna(X_train[i].mean(),inplace=True)  #filling test data with train data mean"
   ]
  },
  {
   "cell_type": "raw",
   "id": "a4e0631e",
   "metadata": {},
   "source": [
    "we can use medain  to fill null values we use X_train.meadian() in place of X_train.mean()"
   ]
  },
  {
   "cell_type": "code",
   "execution_count": 25,
   "id": "8fb59f02",
   "metadata": {},
   "outputs": [],
   "source": [
    "#filling the categorical columns with mode\n",
    "for i in cat:\n",
    "    X_train[i].fillna(X_train[i].mode()[0],inplace=True) #filling the train data with mean\n",
    "    X_test[i].fillna(X_train[i].mode()[0],inplace=True)\n",
    "    "
   ]
  },
  {
   "cell_type": "code",
   "execution_count": 28,
   "id": "07ac506e",
   "metadata": {},
   "outputs": [
    {
     "data": {
      "text/plain": [
       "A1     0\n",
       "A2     0\n",
       "A3     0\n",
       "A4     0\n",
       "A5     0\n",
       "A6     0\n",
       "A7     0\n",
       "A8     0\n",
       "A9     0\n",
       "A10    0\n",
       "A11    0\n",
       "A12    0\n",
       "A13    0\n",
       "A14    0\n",
       "A15    0\n",
       "dtype: int64"
      ]
     },
     "execution_count": 28,
     "metadata": {},
     "output_type": "execute_result"
    }
   ],
   "source": [
    "X_train.isnull().sum()"
   ]
  },
  {
   "cell_type": "code",
   "execution_count": 29,
   "id": "92d0b87b",
   "metadata": {},
   "outputs": [],
   "source": [
    "#using sklearn library for this process\n",
    "from sklearn.impute import SimpleImputer"
   ]
  },
  {
   "cell_type": "code",
   "execution_count": 113,
   "id": "87160de3",
   "metadata": {},
   "outputs": [],
   "source": [
    "X_train, X_test, y_train, y_test = train_test_split(\n",
    "df[num], df['A16'], test_size=0.3,\n",
    "random_state=0)\n"
   ]
  },
  {
   "cell_type": "code",
   "execution_count": 114,
   "id": "6fdb5e79",
   "metadata": {},
   "outputs": [
    {
     "data": {
      "text/plain": [
       "array([ 31.89019068,   4.93610588,   2.50014118,   2.51759834,\n",
       "       180.57352941, 966.25258799])"
      ]
     },
     "execution_count": 114,
     "metadata": {},
     "output_type": "execute_result"
    }
   ],
   "source": [
    "imputer=SimpleImputer(strategy='mean') #use mean for numerical data\n",
    "imputer.fit(X_train)\n",
    "imputer.statistics_\n"
   ]
  },
  {
   "cell_type": "code",
   "execution_count": 115,
   "id": "633d9e64",
   "metadata": {},
   "outputs": [],
   "source": [
    "X_train=imputer.transform(X_train) #filling mean\n",
    "X_test= imputer.transform(X_test)\n"
   ]
  },
  {
   "cell_type": "code",
   "execution_count": 116,
   "id": "0f18de53",
   "metadata": {},
   "outputs": [],
   "source": [
    "X_train1, X_test1, y_train, y_test = train_test_split(\n",
    "df[cat], df['A16'], test_size=0.3,\n",
    "random_state=0) #spitting again for categorica data"
   ]
  },
  {
   "cell_type": "code",
   "execution_count": 117,
   "id": "17f6d7f0",
   "metadata": {},
   "outputs": [
    {
     "data": {
      "text/plain": [
       "array(['b', 'u', 'g', 'c', 'v', 't', 'f', 'f', 'g'], dtype=object)"
      ]
     },
     "execution_count": 117,
     "metadata": {},
     "output_type": "execute_result"
    }
   ],
   "source": [
    "imputer=SimpleImputer(strategy='most_frequent') #use mode for categorical  data\n",
    "imputer.fit(X_train1)\n",
    "imputer.statistics_"
   ]
  },
  {
   "cell_type": "code",
   "execution_count": 118,
   "id": "7eca1f38",
   "metadata": {},
   "outputs": [],
   "source": [
    "X_train1=imputer.transform(X_train1) #filling mode\n",
    "X_test1= imputer.transform(X_test1)\n"
   ]
  },
  {
   "cell_type": "code",
   "execution_count": 119,
   "id": "41f460cc",
   "metadata": {},
   "outputs": [],
   "source": [
    "#combining both categorical and numerical columns after imputation\n",
    "X_train=p.concat([p.DataFrame(X_train,columns=num),p.DataFrame(X_train1,columns=cat)],axis=1)"
   ]
  },
  {
   "cell_type": "code",
   "execution_count": 120,
   "id": "a3d4b72d",
   "metadata": {},
   "outputs": [
    {
     "data": {
      "text/html": [
       "<div>\n",
       "<style scoped>\n",
       "    .dataframe tbody tr th:only-of-type {\n",
       "        vertical-align: middle;\n",
       "    }\n",
       "\n",
       "    .dataframe tbody tr th {\n",
       "        vertical-align: top;\n",
       "    }\n",
       "\n",
       "    .dataframe thead th {\n",
       "        text-align: right;\n",
       "    }\n",
       "</style>\n",
       "<table border=\"1\" class=\"dataframe\">\n",
       "  <thead>\n",
       "    <tr style=\"text-align: right;\">\n",
       "      <th></th>\n",
       "      <th>A2</th>\n",
       "      <th>A3</th>\n",
       "      <th>A8</th>\n",
       "      <th>A11</th>\n",
       "      <th>A14</th>\n",
       "      <th>A15</th>\n",
       "      <th>A1</th>\n",
       "      <th>A4</th>\n",
       "      <th>A5</th>\n",
       "      <th>A6</th>\n",
       "      <th>A7</th>\n",
       "      <th>A9</th>\n",
       "      <th>A10</th>\n",
       "      <th>A12</th>\n",
       "      <th>A13</th>\n",
       "    </tr>\n",
       "  </thead>\n",
       "  <tbody>\n",
       "    <tr>\n",
       "      <th>0</th>\n",
       "      <td>46.08</td>\n",
       "      <td>3.000</td>\n",
       "      <td>2.375</td>\n",
       "      <td>8.0</td>\n",
       "      <td>396.0</td>\n",
       "      <td>4159.0</td>\n",
       "      <td>a</td>\n",
       "      <td>u</td>\n",
       "      <td>g</td>\n",
       "      <td>c</td>\n",
       "      <td>v</td>\n",
       "      <td>t</td>\n",
       "      <td>t</td>\n",
       "      <td>t</td>\n",
       "      <td>g</td>\n",
       "    </tr>\n",
       "    <tr>\n",
       "      <th>1</th>\n",
       "      <td>15.92</td>\n",
       "      <td>2.875</td>\n",
       "      <td>0.085</td>\n",
       "      <td>0.0</td>\n",
       "      <td>120.0</td>\n",
       "      <td>0.0</td>\n",
       "      <td>a</td>\n",
       "      <td>u</td>\n",
       "      <td>g</td>\n",
       "      <td>q</td>\n",
       "      <td>v</td>\n",
       "      <td>f</td>\n",
       "      <td>f</td>\n",
       "      <td>f</td>\n",
       "      <td>g</td>\n",
       "    </tr>\n",
       "    <tr>\n",
       "      <th>2</th>\n",
       "      <td>36.33</td>\n",
       "      <td>2.125</td>\n",
       "      <td>0.085</td>\n",
       "      <td>1.0</td>\n",
       "      <td>50.0</td>\n",
       "      <td>1187.0</td>\n",
       "      <td>b</td>\n",
       "      <td>y</td>\n",
       "      <td>p</td>\n",
       "      <td>w</td>\n",
       "      <td>v</td>\n",
       "      <td>t</td>\n",
       "      <td>t</td>\n",
       "      <td>f</td>\n",
       "      <td>g</td>\n",
       "    </tr>\n",
       "    <tr>\n",
       "      <th>3</th>\n",
       "      <td>22.17</td>\n",
       "      <td>0.585</td>\n",
       "      <td>0.000</td>\n",
       "      <td>0.0</td>\n",
       "      <td>100.0</td>\n",
       "      <td>0.0</td>\n",
       "      <td>b</td>\n",
       "      <td>y</td>\n",
       "      <td>p</td>\n",
       "      <td>ff</td>\n",
       "      <td>ff</td>\n",
       "      <td>f</td>\n",
       "      <td>f</td>\n",
       "      <td>f</td>\n",
       "      <td>g</td>\n",
       "    </tr>\n",
       "    <tr>\n",
       "      <th>4</th>\n",
       "      <td>57.83</td>\n",
       "      <td>7.040</td>\n",
       "      <td>14.000</td>\n",
       "      <td>6.0</td>\n",
       "      <td>360.0</td>\n",
       "      <td>1332.0</td>\n",
       "      <td>b</td>\n",
       "      <td>u</td>\n",
       "      <td>g</td>\n",
       "      <td>m</td>\n",
       "      <td>v</td>\n",
       "      <td>t</td>\n",
       "      <td>t</td>\n",
       "      <td>t</td>\n",
       "      <td>g</td>\n",
       "    </tr>\n",
       "  </tbody>\n",
       "</table>\n",
       "</div>"
      ],
      "text/plain": [
       "      A2     A3      A8  A11    A14     A15 A1 A4 A5  A6  A7 A9 A10 A12 A13\n",
       "0  46.08  3.000   2.375  8.0  396.0  4159.0  a  u  g   c   v  t   t   t   g\n",
       "1  15.92  2.875   0.085  0.0  120.0     0.0  a  u  g   q   v  f   f   f   g\n",
       "2  36.33  2.125   0.085  1.0   50.0  1187.0  b  y  p   w   v  t   t   f   g\n",
       "3  22.17  0.585   0.000  0.0  100.0     0.0  b  y  p  ff  ff  f   f   f   g\n",
       "4  57.83  7.040  14.000  6.0  360.0  1332.0  b  u  g   m   v  t   t   t   g"
      ]
     },
     "execution_count": 120,
     "metadata": {},
     "output_type": "execute_result"
    }
   ],
   "source": [
    "X_train.head()"
   ]
  },
  {
   "cell_type": "markdown",
   "id": "29b761ce",
   "metadata": {},
   "source": [
    "# Replacing missing values with an arbitrary number\n"
   ]
  },
  {
   "cell_type": "raw",
   "id": "adf291f8",
   "metadata": {},
   "source": [
    "Arbitrary number imputation consists of replacing missing values with an arbitrary value.Some commonly used values include 999, 9999, or -1 for positive distributions. This method is suitable for numerical variables.This is used when values are not  missing at random\n",
    "Arbitrary number imputation can be used when data is not missing at random, when we are building non-linear models, and when the percentage of missing data is high. This imputation technique distorts the original variable distribution.\n",
    "This is used to show our machine learning model that it is a missing value"
   ]
  },
  {
   "cell_type": "code",
   "execution_count": 121,
   "id": "f2709377",
   "metadata": {},
   "outputs": [],
   "source": [
    "X_train, X_test, y_train, y_test = train_test_split(\n",
    " df.drop('A16', axis=1), df['A16'], test_size=0.3,\n",
    " random_state=0)\n",
    "#Normally, we select arbitrary values that are bigger than the maximum value of the distribution."
   ]
  },
  {
   "cell_type": "code",
   "execution_count": 122,
   "id": "d1d470a2",
   "metadata": {},
   "outputs": [
    {
     "data": {
      "text/plain": [
       "A2     76.75\n",
       "A3     28.00\n",
       "A8     28.50\n",
       "A11    67.00\n",
       "dtype: float64"
      ]
     },
     "execution_count": 122,
     "metadata": {},
     "output_type": "execute_result"
    }
   ],
   "source": [
    "X_train[['A2','A3', 'A8', 'A11']].max()\n"
   ]
  },
  {
   "cell_type": "code",
   "execution_count": 123,
   "id": "54b627a8",
   "metadata": {},
   "outputs": [],
   "source": [
    "for i in ['A2','A3', 'A8', 'A11']:\n",
    "    X_train.fillna(99,inplace=True)\n",
    "    X_test.fillna(99,inplace=True)\n",
    "#We chose 99 as the arbitrary value because it is bigger than the maximum value of these variables."
   ]
  },
  {
   "cell_type": "code",
   "execution_count": 124,
   "id": "46c80508",
   "metadata": {},
   "outputs": [],
   "source": [
    "#using sklearn \n",
    "from sklearn.impute import SimpleImputer\n",
    "X_train, X_test, y_train, y_test = train_test_split(\n",
    " df[num], df['A16'], test_size=0.3,\n",
    " random_state=0)\n"
   ]
  },
  {
   "cell_type": "code",
   "execution_count": 128,
   "id": "1b456c45",
   "metadata": {},
   "outputs": [],
   "source": [
    "imputer=SimpleImputer(strategy='constant',fill_value=99)"
   ]
  },
  {
   "cell_type": "code",
   "execution_count": 129,
   "id": "6ee1130c",
   "metadata": {},
   "outputs": [],
   "source": [
    "imputer.fit(X_train)\n",
    "X_train=imputer.transform(X_train)\n",
    "X_test=imputer.transform(X_test)\n",
    "#imputation is done"
   ]
  },
  {
   "cell_type": "markdown",
   "id": "119829e0",
   "metadata": {},
   "source": [
    "# Capturing missing values in a bespoke category\n"
   ]
  },
  {
   "cell_type": "raw",
   "id": "eb2faa38",
   "metadata": {},
   "source": [
    "Missing data in categorical variables can be treated as a different category, so it is common to replace missing values with the Missing string"
   ]
  },
  {
   "cell_type": "code",
   "execution_count": 131,
   "id": "ce74bda7",
   "metadata": {},
   "outputs": [],
   "source": [
    "X_train, X_test, y_train, y_test = train_test_split(\n",
    " df[cat], df['A16'], test_size=0.3,\n",
    " random_state=0)\n"
   ]
  },
  {
   "cell_type": "code",
   "execution_count": 133,
   "id": "3ed41bca",
   "metadata": {},
   "outputs": [],
   "source": [
    "#imputating the missing values with 'Missing' in categorical data\n",
    "for i in X_train.columns:\n",
    "    X_train.fillna('Missing',inplace=True)\n",
    "    X_test.fillna('Missing',inplace=True)"
   ]
  },
  {
   "cell_type": "code",
   "execution_count": 134,
   "id": "7dcea8fc",
   "metadata": {},
   "outputs": [],
   "source": [
    "#using sklearn\n",
    "from sklearn.impute import SimpleImputer\n",
    "imputer=SimpleImputer(strategy='constant',fill_value='Missing')"
   ]
  },
  {
   "cell_type": "code",
   "execution_count": 136,
   "id": "658db917",
   "metadata": {},
   "outputs": [],
   "source": [
    "imputer.fit(X_train)\n",
    "X_train=imputer.transform(X_train)\n",
    "X_test=imputer.transform(X_test)"
   ]
  },
  {
   "cell_type": "markdown",
   "id": "06924491",
   "metadata": {},
   "source": [
    "# Replacing missing values with a value at the end of the distribution"
   ]
  },
  {
   "cell_type": "raw",
   "id": "6fd4ef4e",
   "metadata": {},
   "source": [
    "Replacing missing values with a value at the end of the variable distribution is equivalent to replacing them with an arbitrary value, but instead of identifying the arbitrary values manually, these values are automatically selected as those at the very end of the variable distribution. The values that are used to replace missing information are estimated using the mean plus or minus three times the standard deviation if the variable is normally distributed, or the inter-quartile range (IQR) proximity rule otherwise. According to the IQR proximity rule, missing values will be replaced with the 75th quantile + (IQR * 1.5) at the right tail or by the 25th quantile - (IQR * 1.5) at the left tail. The IQR is given by the 75th quantile - the 25th quantile.\n",
    "Some users will also identify the minimum or maximum values of the variable and replace missing data as a factor of these values, for example,three times the maximum value.\n",
    "End-of-tail imputation may distort the distribution of the original variables, so it may not be suitable for linear models."
   ]
  },
  {
   "cell_type": "code",
   "execution_count": 147,
   "id": "bdd3a51b",
   "metadata": {},
   "outputs": [],
   "source": [
    "#splitting the data\n",
    "X_train, X_test, y_train, y_test = train_test_split(\n",
    " df.drop('A16', axis=1), df['A16'], test_size=0.3,\n",
    " random_state=0)"
   ]
  },
  {
   "cell_type": "code",
   "execution_count": 144,
   "id": "a78c042d",
   "metadata": {},
   "outputs": [],
   "source": [
    "#Imputating with IQR if it is not gaussian distribution\n",
    "for i in ['A2', 'A3', 'A8', 'A11', 'A15']:\n",
    "    IQR=X_train[i].quantile(0.75)-X_train[i].quantile(0.25)\n",
    "    value=X_train[i].quantile(0.75)+1.5*(IQR)\n",
    "    X_train[i]=X_train[i].fillna(value)\n",
    "    X_test[i]=X_test[i].fillna(value)\n"
   ]
  },
  {
   "cell_type": "code",
   "execution_count": 141,
   "id": "3c944f91",
   "metadata": {},
   "outputs": [
    {
     "data": {
      "image/png": "[encoded data removed]",
      "text/plain": [
       "<Figure size 1440x1152 with 5 Axes>"
      ]
     },
     "metadata": {
      "needs_background": "light"
     },
     "output_type": "display_data"
    }
   ],
   "source": [
    "#Distribution before imputation\n",
    "import matplotlib.pyplot as plt\n",
    "import seaborn as sns\n",
    "plt.figure(figsize=(20,16))\n",
    "l=['A2', 'A3', 'A8', 'A11', 'A15']\n",
    "for i in range(len(l)):\n",
    "    plt.subplot(3,2,i+1)\n",
    "    sns.kdeplot(X_train[l[i]],color='red')\n",
    "    sns.kdeplot(X_test[l[i]],color='black')\n",
    "    "
   ]
  },
  {
   "cell_type": "code",
   "execution_count": 145,
   "id": "c9bf025c",
   "metadata": {},
   "outputs": [
    {
     "data": {
      "image/png": "[encoded data removed]",
      "text/plain": [
       "<Figure size 1440x1152 with 5 Axes>"
      ]
     },
     "metadata": {
      "needs_background": "light"
     },
     "output_type": "display_data"
    }
   ],
   "source": [
    "#Distribution after imputation\n",
    "plt.figure(figsize=(20,16))\n",
    "l=['A2', 'A3', 'A8', 'A11', 'A15']\n",
    "for i in range(len(l)):\n",
    "    plt.subplot(3,2,i+1)\n",
    "    sns.kdeplot(X_train[l[i]],color='red')\n",
    "    sns.kdeplot(X_test[l[i]],color='black')"
   ]
  },
  {
   "cell_type": "code",
   "execution_count": 148,
   "id": "3eb5f277",
   "metadata": {},
   "outputs": [],
   "source": [
    "#Doing the with mean and standard deviation\n",
    "for i in ['A2', 'A3', 'A8', 'A11', 'A15']:\n",
    "    value=X_train[i].mean()+3*X_train[i].std()\n",
    "    X_train[i]=X_train[i].fillna(value)\n",
    "    X_test[i]=X_test[i].fillna(value)\n"
   ]
  },
  {
   "cell_type": "markdown",
   "id": "3fa631aa",
   "metadata": {},
   "source": [
    "# Implementing random sample imputation"
   ]
  },
  {
   "cell_type": "raw",
   "id": "181bd8fe",
   "metadata": {},
   "source": [
    "Random sampling imputation consists of extracting random observations from the pool of available values in the variable. Random sampling imputation preserves the original distribution, which differs from the other imputation techniques we've discussed in above and is suitable for numerical and categorical variables alike"
   ]
  },
  {
   "cell_type": "code",
   "execution_count": 200,
   "id": "8bfd01c2",
   "metadata": {},
   "outputs": [],
   "source": [
    "X_train, X_test, y_train, y_test = train_test_split(\n",
    " df.drop('A16', axis=1), df['A16'], test_size=0.3,\n",
    " random_state=0)"
   ]
  },
  {
   "cell_type": "code",
   "execution_count": 9,
   "id": "03f5716f",
   "metadata": {},
   "outputs": [],
   "source": [
    "l=[i for i in dict(df.isnull().sum()) if dict(df.isnull().sum())[i]!=0] #select those columns that have null values"
   ]
  },
  {
   "cell_type": "code",
   "execution_count": 202,
   "id": "dd00f2c5",
   "metadata": {},
   "outputs": [],
   "source": [
    "for i in l:\n",
    "    #train dataset\n",
    "    n=X_train[i].isnull().sum() #this will give the number of null values in that columns\n",
    "    array=X_train[i].dropna().sample(n,random_state=0).values #it will extract n random values from columns without null values\n",
    "    X_train.loc[X_train[i].isnull(),[i]]=array #this will replace those null values present in that columns with random values in array\n",
    "    #test dataset\n",
    "    n=X_test[i].isnull().sum()\n",
    "    array=X_train[i].dropna().sample(n).values #we will extract random values from train  dataset\n",
    "    X_test.loc[X_test[i].isnull(),[i]]=array"
   ]
  },
  {
   "cell_type": "markdown",
   "id": "6c64ad10",
   "metadata": {},
   "source": [
    "# Adding a missing value indicator variable"
   ]
  },
  {
   "cell_type": "raw",
   "id": "fe832d14",
   "metadata": {},
   "source": [
    "One approach to address this issue is to include additional binary flag input features that indicate whether a row or a column contained a missing value that was imputed. This additional information may or may not be helpful to the model in predicting the target value."
   ]
  },
  {
   "cell_type": "code",
   "execution_count": 123,
   "id": "1460153e",
   "metadata": {},
   "outputs": [],
   "source": [
    "X_train, X_test, y_train, y_test = train_test_split(\n",
    " df.drop('A16', axis=1), df['A16'], test_size=0.3,\n",
    " random_state=0)\n",
    "    "
   ]
  },
  {
   "cell_type": "code",
   "execution_count": 208,
   "id": "e09ba766",
   "metadata": {},
   "outputs": [],
   "source": [
    "for i in l:\n",
    "    X_train[i+'_nan']=n.where(X_train[i].isnull(),1,0) #It will create new column if variable contains missing value it will give 1 otherwise 0\n",
    "    X_test[i+'_nan']=n.where(X_test[i].isnull(),1,0)"
   ]
  },
  {
   "cell_type": "code",
   "execution_count": 209,
   "id": "b20086ca",
   "metadata": {},
   "outputs": [
    {
     "data": {
      "text/html": [
       "<div>\n",
       "<style scoped>\n",
       "    .dataframe tbody tr th:only-of-type {\n",
       "        vertical-align: middle;\n",
       "    }\n",
       "\n",
       "    .dataframe tbody tr th {\n",
       "        vertical-align: top;\n",
       "    }\n",
       "\n",
       "    .dataframe thead th {\n",
       "        text-align: right;\n",
       "    }\n",
       "</style>\n",
       "<table border=\"1\" class=\"dataframe\">\n",
       "  <thead>\n",
       "    <tr style=\"text-align: right;\">\n",
       "      <th></th>\n",
       "      <th>A1</th>\n",
       "      <th>A2</th>\n",
       "      <th>A3</th>\n",
       "      <th>A4</th>\n",
       "      <th>A5</th>\n",
       "      <th>A6</th>\n",
       "      <th>A7</th>\n",
       "      <th>A8</th>\n",
       "      <th>A9</th>\n",
       "      <th>A10</th>\n",
       "      <th>...</th>\n",
       "      <th>A2_nan</th>\n",
       "      <th>A3_nan</th>\n",
       "      <th>A4_nan</th>\n",
       "      <th>A5_nan</th>\n",
       "      <th>A6_nan</th>\n",
       "      <th>A7_nan</th>\n",
       "      <th>A8_nan</th>\n",
       "      <th>A9_nan</th>\n",
       "      <th>A10_nan</th>\n",
       "      <th>A14_nan</th>\n",
       "    </tr>\n",
       "  </thead>\n",
       "  <tbody>\n",
       "    <tr>\n",
       "      <th>596</th>\n",
       "      <td>a</td>\n",
       "      <td>46.08</td>\n",
       "      <td>3.000</td>\n",
       "      <td>u</td>\n",
       "      <td>g</td>\n",
       "      <td>c</td>\n",
       "      <td>v</td>\n",
       "      <td>2.375</td>\n",
       "      <td>t</td>\n",
       "      <td>t</td>\n",
       "      <td>...</td>\n",
       "      <td>0</td>\n",
       "      <td>0</td>\n",
       "      <td>0</td>\n",
       "      <td>0</td>\n",
       "      <td>0</td>\n",
       "      <td>0</td>\n",
       "      <td>0</td>\n",
       "      <td>0</td>\n",
       "      <td>0</td>\n",
       "      <td>0</td>\n",
       "    </tr>\n",
       "    <tr>\n",
       "      <th>303</th>\n",
       "      <td>a</td>\n",
       "      <td>15.92</td>\n",
       "      <td>2.875</td>\n",
       "      <td>u</td>\n",
       "      <td>g</td>\n",
       "      <td>q</td>\n",
       "      <td>v</td>\n",
       "      <td>0.085</td>\n",
       "      <td>f</td>\n",
       "      <td>f</td>\n",
       "      <td>...</td>\n",
       "      <td>0</td>\n",
       "      <td>0</td>\n",
       "      <td>0</td>\n",
       "      <td>0</td>\n",
       "      <td>0</td>\n",
       "      <td>0</td>\n",
       "      <td>0</td>\n",
       "      <td>0</td>\n",
       "      <td>0</td>\n",
       "      <td>0</td>\n",
       "    </tr>\n",
       "    <tr>\n",
       "      <th>204</th>\n",
       "      <td>b</td>\n",
       "      <td>36.33</td>\n",
       "      <td>2.125</td>\n",
       "      <td>y</td>\n",
       "      <td>p</td>\n",
       "      <td>w</td>\n",
       "      <td>v</td>\n",
       "      <td>0.085</td>\n",
       "      <td>t</td>\n",
       "      <td>t</td>\n",
       "      <td>...</td>\n",
       "      <td>0</td>\n",
       "      <td>0</td>\n",
       "      <td>0</td>\n",
       "      <td>0</td>\n",
       "      <td>0</td>\n",
       "      <td>0</td>\n",
       "      <td>0</td>\n",
       "      <td>0</td>\n",
       "      <td>0</td>\n",
       "      <td>0</td>\n",
       "    </tr>\n",
       "    <tr>\n",
       "      <th>351</th>\n",
       "      <td>b</td>\n",
       "      <td>22.17</td>\n",
       "      <td>0.585</td>\n",
       "      <td>y</td>\n",
       "      <td>p</td>\n",
       "      <td>ff</td>\n",
       "      <td>ff</td>\n",
       "      <td>0.000</td>\n",
       "      <td>f</td>\n",
       "      <td>f</td>\n",
       "      <td>...</td>\n",
       "      <td>0</td>\n",
       "      <td>0</td>\n",
       "      <td>0</td>\n",
       "      <td>0</td>\n",
       "      <td>0</td>\n",
       "      <td>0</td>\n",
       "      <td>0</td>\n",
       "      <td>0</td>\n",
       "      <td>0</td>\n",
       "      <td>0</td>\n",
       "    </tr>\n",
       "    <tr>\n",
       "      <th>118</th>\n",
       "      <td>b</td>\n",
       "      <td>57.83</td>\n",
       "      <td>7.040</td>\n",
       "      <td>u</td>\n",
       "      <td>g</td>\n",
       "      <td>m</td>\n",
       "      <td>v</td>\n",
       "      <td>14.000</td>\n",
       "      <td>t</td>\n",
       "      <td>t</td>\n",
       "      <td>...</td>\n",
       "      <td>0</td>\n",
       "      <td>0</td>\n",
       "      <td>0</td>\n",
       "      <td>0</td>\n",
       "      <td>0</td>\n",
       "      <td>0</td>\n",
       "      <td>0</td>\n",
       "      <td>0</td>\n",
       "      <td>0</td>\n",
       "      <td>0</td>\n",
       "    </tr>\n",
       "  </tbody>\n",
       "</table>\n",
       "<p>5 rows × 26 columns</p>\n",
       "</div>"
      ],
      "text/plain": [
       "    A1     A2     A3 A4 A5  A6  A7      A8 A9 A10  ...  A2_nan A3_nan A4_nan  \\\n",
       "596  a  46.08  3.000  u  g   c   v   2.375  t   t  ...       0      0      0   \n",
       "303  a  15.92  2.875  u  g   q   v   0.085  f   f  ...       0      0      0   \n",
       "204  b  36.33  2.125  y  p   w   v   0.085  t   t  ...       0      0      0   \n",
       "351  b  22.17  0.585  y  p  ff  ff   0.000  f   f  ...       0      0      0   \n",
       "118  b  57.83  7.040  u  g   m   v  14.000  t   t  ...       0      0      0   \n",
       "\n",
       "     A5_nan  A6_nan  A7_nan  A8_nan  A9_nan  A10_nan  A14_nan  \n",
       "596       0       0       0       0       0        0        0  \n",
       "303       0       0       0       0       0        0        0  \n",
       "204       0       0       0       0       0        0        0  \n",
       "351       0       0       0       0       0        0        0  \n",
       "118       0       0       0       0       0        0        0  \n",
       "\n",
       "[5 rows x 26 columns]"
      ]
     },
     "execution_count": 209,
     "metadata": {},
     "output_type": "execute_result"
    }
   ],
   "source": [
    "X_train.head() #extra columns with details"
   ]
  },
  {
   "cell_type": "code",
   "execution_count": 218,
   "id": "9b7ccb67",
   "metadata": {},
   "outputs": [
    {
     "name": "stdout",
     "output_type": "stream",
     "text": [
      "4 : 4\n",
      "11 : 11\n",
      "58 : 58\n",
      "4 : 4\n",
      "4 : 4\n",
      "4 : 4\n",
      "4 : 4\n",
      "58 : 58\n",
      "58 : 58\n",
      "58 : 58\n",
      "7 : 7\n"
     ]
    }
   ],
   "source": [
    "#verifying that we have give right indication\n",
    "for i in l:\n",
    "    j=i+'_nan'\n",
    "    print(f'{X_train[i].isnull().sum()} : {X_train[j].sum()}')"
   ]
  },
  {
   "cell_type": "code",
   "execution_count": 23,
   "id": "9bc6d4f0",
   "metadata": {},
   "outputs": [],
   "source": [
    "from sklearn.impute import MissingIndicator"
   ]
  },
  {
   "cell_type": "code",
   "execution_count": 42,
   "id": "99fcb667",
   "metadata": {},
   "outputs": [],
   "source": [
    "indcator=MissingIndicator(features='missing-only')"
   ]
  },
  {
   "cell_type": "code",
   "execution_count": 43,
   "id": "964656af",
   "metadata": {},
   "outputs": [
    {
     "data": {
      "text/plain": [
       "MissingIndicator()"
      ]
     },
     "execution_count": 43,
     "metadata": {},
     "output_type": "execute_result"
    }
   ],
   "source": [
    "indcator.fit(X_train)"
   ]
  },
  {
   "cell_type": "code",
   "execution_count": 44,
   "id": "bbdee5ab",
   "metadata": {},
   "outputs": [
    {
     "data": {
      "text/plain": [
       "array([ 0,  1,  2,  3,  4,  5,  6,  7,  8,  9, 13], dtype=int64)"
      ]
     },
     "execution_count": 44,
     "metadata": {},
     "output_type": "execute_result"
    }
   ],
   "source": [
    "indcator.features_ #these are the indexes of columns with missing values in list  X_train.columns "
   ]
  },
  {
   "cell_type": "code",
   "execution_count": 46,
   "id": "921c7f54",
   "metadata": {},
   "outputs": [],
   "source": [
    "col=[X_train.columns[i]+'_nan' for i in indcator.features_] "
   ]
  },
  {
   "cell_type": "code",
   "execution_count": 125,
   "id": "7edbf40f",
   "metadata": {},
   "outputs": [
    {
     "data": {
      "text/html": [
       "<div>\n",
       "<style scoped>\n",
       "    .dataframe tbody tr th:only-of-type {\n",
       "        vertical-align: middle;\n",
       "    }\n",
       "\n",
       "    .dataframe tbody tr th {\n",
       "        vertical-align: top;\n",
       "    }\n",
       "\n",
       "    .dataframe thead th {\n",
       "        text-align: right;\n",
       "    }\n",
       "</style>\n",
       "<table border=\"1\" class=\"dataframe\">\n",
       "  <thead>\n",
       "    <tr style=\"text-align: right;\">\n",
       "      <th></th>\n",
       "      <th>A1</th>\n",
       "      <th>A2</th>\n",
       "      <th>A3</th>\n",
       "      <th>A4</th>\n",
       "      <th>A5</th>\n",
       "      <th>A6</th>\n",
       "      <th>A7</th>\n",
       "      <th>A8</th>\n",
       "      <th>A9</th>\n",
       "      <th>A10</th>\n",
       "      <th>...</th>\n",
       "      <th>A2_nan</th>\n",
       "      <th>A3_nan</th>\n",
       "      <th>A4_nan</th>\n",
       "      <th>A5_nan</th>\n",
       "      <th>A6_nan</th>\n",
       "      <th>A7_nan</th>\n",
       "      <th>A8_nan</th>\n",
       "      <th>A9_nan</th>\n",
       "      <th>A10_nan</th>\n",
       "      <th>A14_nan</th>\n",
       "    </tr>\n",
       "  </thead>\n",
       "  <tbody>\n",
       "    <tr>\n",
       "      <th>0</th>\n",
       "      <td>a</td>\n",
       "      <td>46.08</td>\n",
       "      <td>3.000</td>\n",
       "      <td>u</td>\n",
       "      <td>g</td>\n",
       "      <td>c</td>\n",
       "      <td>v</td>\n",
       "      <td>2.375</td>\n",
       "      <td>t</td>\n",
       "      <td>t</td>\n",
       "      <td>...</td>\n",
       "      <td>False</td>\n",
       "      <td>False</td>\n",
       "      <td>False</td>\n",
       "      <td>False</td>\n",
       "      <td>False</td>\n",
       "      <td>False</td>\n",
       "      <td>False</td>\n",
       "      <td>False</td>\n",
       "      <td>False</td>\n",
       "      <td>False</td>\n",
       "    </tr>\n",
       "    <tr>\n",
       "      <th>1</th>\n",
       "      <td>a</td>\n",
       "      <td>15.92</td>\n",
       "      <td>2.875</td>\n",
       "      <td>u</td>\n",
       "      <td>g</td>\n",
       "      <td>q</td>\n",
       "      <td>v</td>\n",
       "      <td>0.085</td>\n",
       "      <td>f</td>\n",
       "      <td>f</td>\n",
       "      <td>...</td>\n",
       "      <td>False</td>\n",
       "      <td>False</td>\n",
       "      <td>False</td>\n",
       "      <td>False</td>\n",
       "      <td>False</td>\n",
       "      <td>False</td>\n",
       "      <td>False</td>\n",
       "      <td>False</td>\n",
       "      <td>False</td>\n",
       "      <td>False</td>\n",
       "    </tr>\n",
       "    <tr>\n",
       "      <th>2</th>\n",
       "      <td>b</td>\n",
       "      <td>36.33</td>\n",
       "      <td>2.125</td>\n",
       "      <td>y</td>\n",
       "      <td>p</td>\n",
       "      <td>w</td>\n",
       "      <td>v</td>\n",
       "      <td>0.085</td>\n",
       "      <td>t</td>\n",
       "      <td>t</td>\n",
       "      <td>...</td>\n",
       "      <td>False</td>\n",
       "      <td>False</td>\n",
       "      <td>False</td>\n",
       "      <td>False</td>\n",
       "      <td>False</td>\n",
       "      <td>False</td>\n",
       "      <td>False</td>\n",
       "      <td>False</td>\n",
       "      <td>False</td>\n",
       "      <td>False</td>\n",
       "    </tr>\n",
       "    <tr>\n",
       "      <th>3</th>\n",
       "      <td>b</td>\n",
       "      <td>22.17</td>\n",
       "      <td>NaN</td>\n",
       "      <td>y</td>\n",
       "      <td>p</td>\n",
       "      <td>ff</td>\n",
       "      <td>ff</td>\n",
       "      <td>NaN</td>\n",
       "      <td>NaN</td>\n",
       "      <td>NaN</td>\n",
       "      <td>...</td>\n",
       "      <td>False</td>\n",
       "      <td>True</td>\n",
       "      <td>False</td>\n",
       "      <td>False</td>\n",
       "      <td>False</td>\n",
       "      <td>False</td>\n",
       "      <td>True</td>\n",
       "      <td>True</td>\n",
       "      <td>True</td>\n",
       "      <td>False</td>\n",
       "    </tr>\n",
       "    <tr>\n",
       "      <th>4</th>\n",
       "      <td>b</td>\n",
       "      <td>57.83</td>\n",
       "      <td>7.040</td>\n",
       "      <td>u</td>\n",
       "      <td>g</td>\n",
       "      <td>m</td>\n",
       "      <td>v</td>\n",
       "      <td>14.000</td>\n",
       "      <td>t</td>\n",
       "      <td>t</td>\n",
       "      <td>...</td>\n",
       "      <td>False</td>\n",
       "      <td>False</td>\n",
       "      <td>False</td>\n",
       "      <td>False</td>\n",
       "      <td>False</td>\n",
       "      <td>False</td>\n",
       "      <td>False</td>\n",
       "      <td>False</td>\n",
       "      <td>False</td>\n",
       "      <td>False</td>\n",
       "    </tr>\n",
       "  </tbody>\n",
       "</table>\n",
       "<p>5 rows × 26 columns</p>\n",
       "</div>"
      ],
      "text/plain": [
       "  A1     A2     A3 A4 A5  A6  A7      A8   A9  A10  ...  A2_nan A3_nan A4_nan  \\\n",
       "0  a  46.08  3.000  u  g   c   v   2.375    t    t  ...   False  False  False   \n",
       "1  a  15.92  2.875  u  g   q   v   0.085    f    f  ...   False  False  False   \n",
       "2  b  36.33  2.125  y  p   w   v   0.085    t    t  ...   False  False  False   \n",
       "3  b  22.17    NaN  y  p  ff  ff     NaN  NaN  NaN  ...   False   True  False   \n",
       "4  b  57.83  7.040  u  g   m   v  14.000    t    t  ...   False  False  False   \n",
       "\n",
       "   A5_nan  A6_nan  A7_nan  A8_nan  A9_nan  A10_nan  A14_nan  \n",
       "0   False   False   False   False   False    False    False  \n",
       "1   False   False   False   False   False    False    False  \n",
       "2   False   False   False   False   False    False    False  \n",
       "3   False   False   False    True    True     True    False  \n",
       "4   False   False   False   False   False    False    False  \n",
       "\n",
       "[5 rows x 26 columns]"
      ]
     },
     "execution_count": 125,
     "metadata": {},
     "output_type": "execute_result"
    }
   ],
   "source": [
    "X_train=p.concat([X_train.reset_index(drop=True),p.DataFrame(indcator.transform(X_train),columns=col)],axis=1)\n",
    "X_train.head()\n",
    "#After this we can substitue it with mean or median or any other way"
   ]
  },
  {
   "cell_type": "code",
   "execution_count": 124,
   "id": "7fcde910",
   "metadata": {},
   "outputs": [
    {
     "data": {
      "text/html": [
       "<div>\n",
       "<style scoped>\n",
       "    .dataframe tbody tr th:only-of-type {\n",
       "        vertical-align: middle;\n",
       "    }\n",
       "\n",
       "    .dataframe tbody tr th {\n",
       "        vertical-align: top;\n",
       "    }\n",
       "\n",
       "    .dataframe thead th {\n",
       "        text-align: right;\n",
       "    }\n",
       "</style>\n",
       "<table border=\"1\" class=\"dataframe\">\n",
       "  <thead>\n",
       "    <tr style=\"text-align: right;\">\n",
       "      <th></th>\n",
       "      <th>A1</th>\n",
       "      <th>A2</th>\n",
       "      <th>A3</th>\n",
       "      <th>A4</th>\n",
       "      <th>A5</th>\n",
       "      <th>A6</th>\n",
       "      <th>A7</th>\n",
       "      <th>A8</th>\n",
       "      <th>A9</th>\n",
       "      <th>A10</th>\n",
       "      <th>...</th>\n",
       "      <th>A2_nan</th>\n",
       "      <th>A3_nan</th>\n",
       "      <th>A4_nan</th>\n",
       "      <th>A5_nan</th>\n",
       "      <th>A6_nan</th>\n",
       "      <th>A7_nan</th>\n",
       "      <th>A8_nan</th>\n",
       "      <th>A9_nan</th>\n",
       "      <th>A10_nan</th>\n",
       "      <th>A14_nan</th>\n",
       "    </tr>\n",
       "  </thead>\n",
       "  <tbody>\n",
       "    <tr>\n",
       "      <th>0</th>\n",
       "      <td>a</td>\n",
       "      <td>45.83</td>\n",
       "      <td>10.50</td>\n",
       "      <td>u</td>\n",
       "      <td>g</td>\n",
       "      <td>q</td>\n",
       "      <td>v</td>\n",
       "      <td>5.000</td>\n",
       "      <td>t</td>\n",
       "      <td>t</td>\n",
       "      <td>...</td>\n",
       "      <td>False</td>\n",
       "      <td>False</td>\n",
       "      <td>False</td>\n",
       "      <td>False</td>\n",
       "      <td>False</td>\n",
       "      <td>False</td>\n",
       "      <td>False</td>\n",
       "      <td>False</td>\n",
       "      <td>False</td>\n",
       "      <td>False</td>\n",
       "    </tr>\n",
       "    <tr>\n",
       "      <th>1</th>\n",
       "      <td>b</td>\n",
       "      <td>64.08</td>\n",
       "      <td>20.00</td>\n",
       "      <td>u</td>\n",
       "      <td>g</td>\n",
       "      <td>x</td>\n",
       "      <td>h</td>\n",
       "      <td>17.500</td>\n",
       "      <td>t</td>\n",
       "      <td>t</td>\n",
       "      <td>...</td>\n",
       "      <td>False</td>\n",
       "      <td>False</td>\n",
       "      <td>False</td>\n",
       "      <td>False</td>\n",
       "      <td>False</td>\n",
       "      <td>False</td>\n",
       "      <td>False</td>\n",
       "      <td>False</td>\n",
       "      <td>False</td>\n",
       "      <td>False</td>\n",
       "    </tr>\n",
       "    <tr>\n",
       "      <th>2</th>\n",
       "      <td>a</td>\n",
       "      <td>31.25</td>\n",
       "      <td>3.75</td>\n",
       "      <td>u</td>\n",
       "      <td>g</td>\n",
       "      <td>cc</td>\n",
       "      <td>h</td>\n",
       "      <td>0.625</td>\n",
       "      <td>t</td>\n",
       "      <td>t</td>\n",
       "      <td>...</td>\n",
       "      <td>False</td>\n",
       "      <td>False</td>\n",
       "      <td>False</td>\n",
       "      <td>False</td>\n",
       "      <td>False</td>\n",
       "      <td>False</td>\n",
       "      <td>False</td>\n",
       "      <td>False</td>\n",
       "      <td>False</td>\n",
       "      <td>False</td>\n",
       "    </tr>\n",
       "    <tr>\n",
       "      <th>3</th>\n",
       "      <td>b</td>\n",
       "      <td>39.25</td>\n",
       "      <td>9.50</td>\n",
       "      <td>u</td>\n",
       "      <td>g</td>\n",
       "      <td>m</td>\n",
       "      <td>v</td>\n",
       "      <td>6.500</td>\n",
       "      <td>t</td>\n",
       "      <td>t</td>\n",
       "      <td>...</td>\n",
       "      <td>False</td>\n",
       "      <td>False</td>\n",
       "      <td>False</td>\n",
       "      <td>False</td>\n",
       "      <td>False</td>\n",
       "      <td>False</td>\n",
       "      <td>False</td>\n",
       "      <td>False</td>\n",
       "      <td>False</td>\n",
       "      <td>False</td>\n",
       "    </tr>\n",
       "    <tr>\n",
       "      <th>4</th>\n",
       "      <td>a</td>\n",
       "      <td>26.17</td>\n",
       "      <td>2.00</td>\n",
       "      <td>u</td>\n",
       "      <td>g</td>\n",
       "      <td>j</td>\n",
       "      <td>j</td>\n",
       "      <td>0.000</td>\n",
       "      <td>f</td>\n",
       "      <td>f</td>\n",
       "      <td>...</td>\n",
       "      <td>False</td>\n",
       "      <td>False</td>\n",
       "      <td>False</td>\n",
       "      <td>False</td>\n",
       "      <td>False</td>\n",
       "      <td>False</td>\n",
       "      <td>False</td>\n",
       "      <td>False</td>\n",
       "      <td>False</td>\n",
       "      <td>False</td>\n",
       "    </tr>\n",
       "  </tbody>\n",
       "</table>\n",
       "<p>5 rows × 26 columns</p>\n",
       "</div>"
      ],
      "text/plain": [
       "  A1     A2     A3 A4 A5  A6 A7      A8 A9 A10  ...  A2_nan A3_nan A4_nan  \\\n",
       "0  a  45.83  10.50  u  g   q  v   5.000  t   t  ...   False  False  False   \n",
       "1  b  64.08  20.00  u  g   x  h  17.500  t   t  ...   False  False  False   \n",
       "2  a  31.25   3.75  u  g  cc  h   0.625  t   t  ...   False  False  False   \n",
       "3  b  39.25   9.50  u  g   m  v   6.500  t   t  ...   False  False  False   \n",
       "4  a  26.17   2.00  u  g   j  j   0.000  f   f  ...   False  False  False   \n",
       "\n",
       "   A5_nan  A6_nan  A7_nan  A8_nan  A9_nan  A10_nan  A14_nan  \n",
       "0   False   False   False   False   False    False    False  \n",
       "1   False   False   False   False   False    False    False  \n",
       "2   False   False   False   False   False    False    False  \n",
       "3   False   False   False   False   False    False    False  \n",
       "4   False   False   False   False   False    False    False  \n",
       "\n",
       "[5 rows x 26 columns]"
      ]
     },
     "execution_count": 124,
     "metadata": {},
     "output_type": "execute_result"
    }
   ],
   "source": [
    "X_test=p.concat([X_test.reset_index(drop=True),p.DataFrame(indcator.transform(X_test),columns=col)],axis=1)\n",
    "X_test.head()"
   ]
  },
  {
   "cell_type": "code",
   "execution_count": 64,
   "id": "5a81e65c",
   "metadata": {},
   "outputs": [],
   "source": [
    "#here we are imputing the missing values with mean and showing indication\n",
    "from sklearn.impute import SimpleImputer\n",
    "imputer=SimpleImputer(strategy='mean',add_indicator=True)"
   ]
  },
  {
   "cell_type": "code",
   "execution_count": 67,
   "id": "6f510d54",
   "metadata": {},
   "outputs": [
    {
     "data": {
      "text/plain": [
       "SimpleImputer(add_indicator=True)"
      ]
     },
     "execution_count": 67,
     "metadata": {},
     "output_type": "execute_result"
    }
   ],
   "source": [
    "imputer.fit(X_train[num])"
   ]
  },
  {
   "cell_type": "code",
   "execution_count": 70,
   "id": "b1b70f46",
   "metadata": {},
   "outputs": [
    {
     "data": {
      "text/html": [
       "<div>\n",
       "<style scoped>\n",
       "    .dataframe tbody tr th:only-of-type {\n",
       "        vertical-align: middle;\n",
       "    }\n",
       "\n",
       "    .dataframe tbody tr th {\n",
       "        vertical-align: top;\n",
       "    }\n",
       "\n",
       "    .dataframe thead th {\n",
       "        text-align: right;\n",
       "    }\n",
       "</style>\n",
       "<table border=\"1\" class=\"dataframe\">\n",
       "  <thead>\n",
       "    <tr style=\"text-align: right;\">\n",
       "      <th></th>\n",
       "      <th>0</th>\n",
       "      <th>1</th>\n",
       "      <th>2</th>\n",
       "      <th>3</th>\n",
       "      <th>4</th>\n",
       "      <th>5</th>\n",
       "      <th>6</th>\n",
       "      <th>7</th>\n",
       "      <th>8</th>\n",
       "      <th>9</th>\n",
       "    </tr>\n",
       "  </thead>\n",
       "  <tbody>\n",
       "    <tr>\n",
       "      <th>0</th>\n",
       "      <td>46.08</td>\n",
       "      <td>3.000000</td>\n",
       "      <td>2.375000</td>\n",
       "      <td>8.0</td>\n",
       "      <td>396.0</td>\n",
       "      <td>4159.0</td>\n",
       "      <td>0.0</td>\n",
       "      <td>0.0</td>\n",
       "      <td>0.0</td>\n",
       "      <td>0.0</td>\n",
       "    </tr>\n",
       "    <tr>\n",
       "      <th>1</th>\n",
       "      <td>15.92</td>\n",
       "      <td>2.875000</td>\n",
       "      <td>0.085000</td>\n",
       "      <td>0.0</td>\n",
       "      <td>120.0</td>\n",
       "      <td>0.0</td>\n",
       "      <td>0.0</td>\n",
       "      <td>0.0</td>\n",
       "      <td>0.0</td>\n",
       "      <td>0.0</td>\n",
       "    </tr>\n",
       "    <tr>\n",
       "      <th>2</th>\n",
       "      <td>36.33</td>\n",
       "      <td>2.125000</td>\n",
       "      <td>0.085000</td>\n",
       "      <td>1.0</td>\n",
       "      <td>50.0</td>\n",
       "      <td>1187.0</td>\n",
       "      <td>0.0</td>\n",
       "      <td>0.0</td>\n",
       "      <td>0.0</td>\n",
       "      <td>0.0</td>\n",
       "    </tr>\n",
       "    <tr>\n",
       "      <th>3</th>\n",
       "      <td>22.17</td>\n",
       "      <td>5.041915</td>\n",
       "      <td>2.534504</td>\n",
       "      <td>0.0</td>\n",
       "      <td>100.0</td>\n",
       "      <td>0.0</td>\n",
       "      <td>0.0</td>\n",
       "      <td>1.0</td>\n",
       "      <td>1.0</td>\n",
       "      <td>0.0</td>\n",
       "    </tr>\n",
       "    <tr>\n",
       "      <th>4</th>\n",
       "      <td>57.83</td>\n",
       "      <td>7.040000</td>\n",
       "      <td>14.000000</td>\n",
       "      <td>6.0</td>\n",
       "      <td>360.0</td>\n",
       "      <td>1332.0</td>\n",
       "      <td>0.0</td>\n",
       "      <td>0.0</td>\n",
       "      <td>0.0</td>\n",
       "      <td>0.0</td>\n",
       "    </tr>\n",
       "    <tr>\n",
       "      <th>...</th>\n",
       "      <td>...</td>\n",
       "      <td>...</td>\n",
       "      <td>...</td>\n",
       "      <td>...</td>\n",
       "      <td>...</td>\n",
       "      <td>...</td>\n",
       "      <td>...</td>\n",
       "      <td>...</td>\n",
       "      <td>...</td>\n",
       "      <td>...</td>\n",
       "    </tr>\n",
       "    <tr>\n",
       "      <th>478</th>\n",
       "      <td>36.75</td>\n",
       "      <td>4.710000</td>\n",
       "      <td>0.000000</td>\n",
       "      <td>0.0</td>\n",
       "      <td>160.0</td>\n",
       "      <td>0.0</td>\n",
       "      <td>0.0</td>\n",
       "      <td>0.0</td>\n",
       "      <td>0.0</td>\n",
       "      <td>0.0</td>\n",
       "    </tr>\n",
       "    <tr>\n",
       "      <th>479</th>\n",
       "      <td>41.75</td>\n",
       "      <td>0.960000</td>\n",
       "      <td>2.500000</td>\n",
       "      <td>0.0</td>\n",
       "      <td>510.0</td>\n",
       "      <td>600.0</td>\n",
       "      <td>0.0</td>\n",
       "      <td>0.0</td>\n",
       "      <td>0.0</td>\n",
       "      <td>0.0</td>\n",
       "    </tr>\n",
       "    <tr>\n",
       "      <th>480</th>\n",
       "      <td>19.58</td>\n",
       "      <td>0.665000</td>\n",
       "      <td>1.665000</td>\n",
       "      <td>0.0</td>\n",
       "      <td>220.0</td>\n",
       "      <td>5.0</td>\n",
       "      <td>0.0</td>\n",
       "      <td>0.0</td>\n",
       "      <td>0.0</td>\n",
       "      <td>0.0</td>\n",
       "    </tr>\n",
       "    <tr>\n",
       "      <th>481</th>\n",
       "      <td>22.83</td>\n",
       "      <td>5.041915</td>\n",
       "      <td>2.534504</td>\n",
       "      <td>7.0</td>\n",
       "      <td>140.0</td>\n",
       "      <td>2384.0</td>\n",
       "      <td>0.0</td>\n",
       "      <td>1.0</td>\n",
       "      <td>1.0</td>\n",
       "      <td>0.0</td>\n",
       "    </tr>\n",
       "    <tr>\n",
       "      <th>482</th>\n",
       "      <td>40.58</td>\n",
       "      <td>3.290000</td>\n",
       "      <td>3.500000</td>\n",
       "      <td>0.0</td>\n",
       "      <td>400.0</td>\n",
       "      <td>0.0</td>\n",
       "      <td>0.0</td>\n",
       "      <td>0.0</td>\n",
       "      <td>0.0</td>\n",
       "      <td>0.0</td>\n",
       "    </tr>\n",
       "  </tbody>\n",
       "</table>\n",
       "<p>483 rows × 10 columns</p>\n",
       "</div>"
      ],
      "text/plain": [
       "         0         1          2    3      4       5    6    7    8    9\n",
       "0    46.08  3.000000   2.375000  8.0  396.0  4159.0  0.0  0.0  0.0  0.0\n",
       "1    15.92  2.875000   0.085000  0.0  120.0     0.0  0.0  0.0  0.0  0.0\n",
       "2    36.33  2.125000   0.085000  1.0   50.0  1187.0  0.0  0.0  0.0  0.0\n",
       "3    22.17  5.041915   2.534504  0.0  100.0     0.0  0.0  1.0  1.0  0.0\n",
       "4    57.83  7.040000  14.000000  6.0  360.0  1332.0  0.0  0.0  0.0  0.0\n",
       "..     ...       ...        ...  ...    ...     ...  ...  ...  ...  ...\n",
       "478  36.75  4.710000   0.000000  0.0  160.0     0.0  0.0  0.0  0.0  0.0\n",
       "479  41.75  0.960000   2.500000  0.0  510.0   600.0  0.0  0.0  0.0  0.0\n",
       "480  19.58  0.665000   1.665000  0.0  220.0     5.0  0.0  0.0  0.0  0.0\n",
       "481  22.83  5.041915   2.534504  7.0  140.0  2384.0  0.0  1.0  1.0  0.0\n",
       "482  40.58  3.290000   3.500000  0.0  400.0     0.0  0.0  0.0  0.0  0.0\n",
       "\n",
       "[483 rows x 10 columns]"
      ]
     },
     "execution_count": 70,
     "metadata": {},
     "output_type": "execute_result"
    }
   ],
   "source": [
    "p.DataFrame(imputer.transform(X_train[num]))"
   ]
  },
  {
   "cell_type": "code",
   "execution_count": 73,
   "id": "4e80e149",
   "metadata": {},
   "outputs": [
    {
     "data": {
      "text/html": [
       "<div>\n",
       "<style scoped>\n",
       "    .dataframe tbody tr th:only-of-type {\n",
       "        vertical-align: middle;\n",
       "    }\n",
       "\n",
       "    .dataframe tbody tr th {\n",
       "        vertical-align: top;\n",
       "    }\n",
       "\n",
       "    .dataframe thead th {\n",
       "        text-align: right;\n",
       "    }\n",
       "</style>\n",
       "<table border=\"1\" class=\"dataframe\">\n",
       "  <thead>\n",
       "    <tr style=\"text-align: right;\">\n",
       "      <th></th>\n",
       "      <th>0</th>\n",
       "      <th>1</th>\n",
       "      <th>2</th>\n",
       "      <th>3</th>\n",
       "      <th>4</th>\n",
       "      <th>5</th>\n",
       "      <th>6</th>\n",
       "      <th>7</th>\n",
       "      <th>8</th>\n",
       "      <th>9</th>\n",
       "    </tr>\n",
       "  </thead>\n",
       "  <tbody>\n",
       "    <tr>\n",
       "      <th>0</th>\n",
       "      <td>45.83</td>\n",
       "      <td>10.50</td>\n",
       "      <td>5.000</td>\n",
       "      <td>7.0</td>\n",
       "      <td>0.0</td>\n",
       "      <td>0.0</td>\n",
       "      <td>0.0</td>\n",
       "      <td>0.0</td>\n",
       "      <td>0.0</td>\n",
       "      <td>0.0</td>\n",
       "    </tr>\n",
       "    <tr>\n",
       "      <th>1</th>\n",
       "      <td>64.08</td>\n",
       "      <td>20.00</td>\n",
       "      <td>17.500</td>\n",
       "      <td>9.0</td>\n",
       "      <td>0.0</td>\n",
       "      <td>1000.0</td>\n",
       "      <td>0.0</td>\n",
       "      <td>0.0</td>\n",
       "      <td>0.0</td>\n",
       "      <td>0.0</td>\n",
       "    </tr>\n",
       "    <tr>\n",
       "      <th>2</th>\n",
       "      <td>31.25</td>\n",
       "      <td>3.75</td>\n",
       "      <td>0.625</td>\n",
       "      <td>9.0</td>\n",
       "      <td>181.0</td>\n",
       "      <td>0.0</td>\n",
       "      <td>0.0</td>\n",
       "      <td>0.0</td>\n",
       "      <td>0.0</td>\n",
       "      <td>0.0</td>\n",
       "    </tr>\n",
       "    <tr>\n",
       "      <th>3</th>\n",
       "      <td>39.25</td>\n",
       "      <td>9.50</td>\n",
       "      <td>6.500</td>\n",
       "      <td>14.0</td>\n",
       "      <td>240.0</td>\n",
       "      <td>4607.0</td>\n",
       "      <td>0.0</td>\n",
       "      <td>0.0</td>\n",
       "      <td>0.0</td>\n",
       "      <td>0.0</td>\n",
       "    </tr>\n",
       "    <tr>\n",
       "      <th>4</th>\n",
       "      <td>26.17</td>\n",
       "      <td>2.00</td>\n",
       "      <td>0.000</td>\n",
       "      <td>0.0</td>\n",
       "      <td>276.0</td>\n",
       "      <td>1.0</td>\n",
       "      <td>0.0</td>\n",
       "      <td>0.0</td>\n",
       "      <td>0.0</td>\n",
       "      <td>0.0</td>\n",
       "    </tr>\n",
       "    <tr>\n",
       "      <th>...</th>\n",
       "      <td>...</td>\n",
       "      <td>...</td>\n",
       "      <td>...</td>\n",
       "      <td>...</td>\n",
       "      <td>...</td>\n",
       "      <td>...</td>\n",
       "      <td>...</td>\n",
       "      <td>...</td>\n",
       "      <td>...</td>\n",
       "      <td>...</td>\n",
       "    </tr>\n",
       "    <tr>\n",
       "      <th>202</th>\n",
       "      <td>28.67</td>\n",
       "      <td>1.04</td>\n",
       "      <td>2.500</td>\n",
       "      <td>5.0</td>\n",
       "      <td>300.0</td>\n",
       "      <td>1430.0</td>\n",
       "      <td>0.0</td>\n",
       "      <td>0.0</td>\n",
       "      <td>0.0</td>\n",
       "      <td>0.0</td>\n",
       "    </tr>\n",
       "    <tr>\n",
       "      <th>203</th>\n",
       "      <td>43.17</td>\n",
       "      <td>5.00</td>\n",
       "      <td>2.250</td>\n",
       "      <td>0.0</td>\n",
       "      <td>141.0</td>\n",
       "      <td>0.0</td>\n",
       "      <td>0.0</td>\n",
       "      <td>0.0</td>\n",
       "      <td>0.0</td>\n",
       "      <td>0.0</td>\n",
       "    </tr>\n",
       "    <tr>\n",
       "      <th>204</th>\n",
       "      <td>21.42</td>\n",
       "      <td>0.75</td>\n",
       "      <td>0.750</td>\n",
       "      <td>0.0</td>\n",
       "      <td>132.0</td>\n",
       "      <td>2.0</td>\n",
       "      <td>0.0</td>\n",
       "      <td>0.0</td>\n",
       "      <td>0.0</td>\n",
       "      <td>0.0</td>\n",
       "    </tr>\n",
       "    <tr>\n",
       "      <th>205</th>\n",
       "      <td>26.83</td>\n",
       "      <td>0.54</td>\n",
       "      <td>0.000</td>\n",
       "      <td>0.0</td>\n",
       "      <td>100.0</td>\n",
       "      <td>0.0</td>\n",
       "      <td>0.0</td>\n",
       "      <td>0.0</td>\n",
       "      <td>0.0</td>\n",
       "      <td>0.0</td>\n",
       "    </tr>\n",
       "    <tr>\n",
       "      <th>206</th>\n",
       "      <td>62.50</td>\n",
       "      <td>12.75</td>\n",
       "      <td>5.000</td>\n",
       "      <td>0.0</td>\n",
       "      <td>112.0</td>\n",
       "      <td>0.0</td>\n",
       "      <td>0.0</td>\n",
       "      <td>0.0</td>\n",
       "      <td>0.0</td>\n",
       "      <td>0.0</td>\n",
       "    </tr>\n",
       "  </tbody>\n",
       "</table>\n",
       "<p>207 rows × 10 columns</p>\n",
       "</div>"
      ],
      "text/plain": [
       "         0      1       2     3      4       5    6    7    8    9\n",
       "0    45.83  10.50   5.000   7.0    0.0     0.0  0.0  0.0  0.0  0.0\n",
       "1    64.08  20.00  17.500   9.0    0.0  1000.0  0.0  0.0  0.0  0.0\n",
       "2    31.25   3.75   0.625   9.0  181.0     0.0  0.0  0.0  0.0  0.0\n",
       "3    39.25   9.50   6.500  14.0  240.0  4607.0  0.0  0.0  0.0  0.0\n",
       "4    26.17   2.00   0.000   0.0  276.0     1.0  0.0  0.0  0.0  0.0\n",
       "..     ...    ...     ...   ...    ...     ...  ...  ...  ...  ...\n",
       "202  28.67   1.04   2.500   5.0  300.0  1430.0  0.0  0.0  0.0  0.0\n",
       "203  43.17   5.00   2.250   0.0  141.0     0.0  0.0  0.0  0.0  0.0\n",
       "204  21.42   0.75   0.750   0.0  132.0     2.0  0.0  0.0  0.0  0.0\n",
       "205  26.83   0.54   0.000   0.0  100.0     0.0  0.0  0.0  0.0  0.0\n",
       "206  62.50  12.75   5.000   0.0  112.0     0.0  0.0  0.0  0.0  0.0\n",
       "\n",
       "[207 rows x 10 columns]"
      ]
     },
     "execution_count": 73,
     "metadata": {},
     "output_type": "execute_result"
    }
   ],
   "source": [
    "p.DataFrame(imputer.transform(X_test[num]))"
   ]
  },
  {
   "cell_type": "markdown",
   "id": "fd53341d",
   "metadata": {},
   "source": [
    "# Assembling an imputation  with scikit-learn\n"
   ]
  },
  {
   "cell_type": "raw",
   "id": "01c47b0c",
   "metadata": {},
   "source": [
    "Datasets often contain a mix of numerical and categorical variables. In addition, some  variables may contain a few missing data points, while others will contain quite a big proportion. The mechanisms by which data is missing may also vary among   variables. Thus, we may wish to perform different imputation procedures for different variables."
   ]
  },
  {
   "cell_type": "code",
   "execution_count": 102,
   "id": "d2e12054",
   "metadata": {},
   "outputs": [],
   "source": [
    "from sklearn.compose import ColumnTransformer #this will excute diffrent imputation on different columns and then give concated result\n",
    "X_train, X_test, y_train, y_test = train_test_split(\n",
    " df.drop('A16', axis=1), df['A16'], test_size=0.3,\n",
    " random_state=0)\n"
   ]
  },
  {
   "cell_type": "code",
   "execution_count": 90,
   "id": "52cfbe37",
   "metadata": {},
   "outputs": [],
   "source": [
    "features_num_arbitrary = ['A3', 'A8']\n",
    "features_num_median = ['A2', 'A14']\n",
    "features_cat_frequent = ['A4', 'A5', 'A6', 'A7']\n",
    "features_cat_missing = ['A1', 'A9', 'A10']"
   ]
  },
  {
   "cell_type": "code",
   "execution_count": 106,
   "id": "bab022f6",
   "metadata": {},
   "outputs": [],
   "source": [
    "from sklearn.impute import SimpleImputer\n",
    "median=SimpleImputer(strategy='median')\n",
    "mode=SimpleImputer(strategy=\"most_frequent\")\n",
    "missing=SimpleImputer(strategy='constant',fill_value='Missing')\n",
    "constant=SimpleImputer(strategy='constant',fill_value=100)"
   ]
  },
  {
   "cell_type": "code",
   "execution_count": 118,
   "id": "c6861d69",
   "metadata": {},
   "outputs": [],
   "source": [
    "pro=ColumnTransformer(transformers=[('median',median,features_num_median)\n",
    "                                   ,('mode',mode,features_cat_frequent)\n",
    "                                   ,('missing',missing,features_cat_missing)\n",
    "                                   ,('constant',constant,features_num_arbitrary)\n",
    "                                   ], remainder='passthrough')"
   ]
  },
  {
   "cell_type": "code",
   "execution_count": 119,
   "id": "03afdc88",
   "metadata": {},
   "outputs": [
    {
     "data": {
      "text/plain": [
       "ColumnTransformer(remainder='passthrough',\n",
       "                  transformers=[('median', SimpleImputer(strategy='median'),\n",
       "                                 ['A2', 'A14']),\n",
       "                                ('mode',\n",
       "                                 SimpleImputer(strategy='most_frequent'),\n",
       "                                 ['A4', 'A5', 'A6', 'A7']),\n",
       "                                ('missing',\n",
       "                                 SimpleImputer(fill_value='Missing',\n",
       "                                               strategy='constant'),\n",
       "                                 ['A1', 'A9', 'A10']),\n",
       "                                ('constant',\n",
       "                                 SimpleImputer(fill_value=100,\n",
       "                                               strategy='constant'),\n",
       "                                 ['A3', 'A8'])])"
      ]
     },
     "execution_count": 119,
     "metadata": {},
     "output_type": "execute_result"
    }
   ],
   "source": [
    "pro.fit(X_train)"
   ]
  },
  {
   "cell_type": "code",
   "execution_count": 122,
   "id": "6f951a2a",
   "metadata": {},
   "outputs": [
    {
     "data": {
      "text/html": [
       "<div>\n",
       "<style scoped>\n",
       "    .dataframe tbody tr th:only-of-type {\n",
       "        vertical-align: middle;\n",
       "    }\n",
       "\n",
       "    .dataframe tbody tr th {\n",
       "        vertical-align: top;\n",
       "    }\n",
       "\n",
       "    .dataframe thead th {\n",
       "        text-align: right;\n",
       "    }\n",
       "</style>\n",
       "<table border=\"1\" class=\"dataframe\">\n",
       "  <thead>\n",
       "    <tr style=\"text-align: right;\">\n",
       "      <th></th>\n",
       "      <th>0</th>\n",
       "      <th>1</th>\n",
       "      <th>2</th>\n",
       "      <th>3</th>\n",
       "      <th>4</th>\n",
       "      <th>5</th>\n",
       "      <th>6</th>\n",
       "      <th>7</th>\n",
       "      <th>8</th>\n",
       "      <th>9</th>\n",
       "      <th>10</th>\n",
       "      <th>11</th>\n",
       "      <th>12</th>\n",
       "      <th>13</th>\n",
       "      <th>14</th>\n",
       "    </tr>\n",
       "  </thead>\n",
       "  <tbody>\n",
       "    <tr>\n",
       "      <th>0</th>\n",
       "      <td>46.08</td>\n",
       "      <td>396.0</td>\n",
       "      <td>u</td>\n",
       "      <td>g</td>\n",
       "      <td>c</td>\n",
       "      <td>v</td>\n",
       "      <td>a</td>\n",
       "      <td>t</td>\n",
       "      <td>t</td>\n",
       "      <td>3.0</td>\n",
       "      <td>2.375</td>\n",
       "      <td>8</td>\n",
       "      <td>t</td>\n",
       "      <td>g</td>\n",
       "      <td>4159</td>\n",
       "    </tr>\n",
       "    <tr>\n",
       "      <th>1</th>\n",
       "      <td>15.92</td>\n",
       "      <td>120.0</td>\n",
       "      <td>u</td>\n",
       "      <td>g</td>\n",
       "      <td>q</td>\n",
       "      <td>v</td>\n",
       "      <td>a</td>\n",
       "      <td>f</td>\n",
       "      <td>f</td>\n",
       "      <td>2.875</td>\n",
       "      <td>0.085</td>\n",
       "      <td>0</td>\n",
       "      <td>f</td>\n",
       "      <td>g</td>\n",
       "      <td>0</td>\n",
       "    </tr>\n",
       "    <tr>\n",
       "      <th>2</th>\n",
       "      <td>36.33</td>\n",
       "      <td>50.0</td>\n",
       "      <td>y</td>\n",
       "      <td>p</td>\n",
       "      <td>w</td>\n",
       "      <td>v</td>\n",
       "      <td>b</td>\n",
       "      <td>t</td>\n",
       "      <td>t</td>\n",
       "      <td>2.125</td>\n",
       "      <td>0.085</td>\n",
       "      <td>1</td>\n",
       "      <td>f</td>\n",
       "      <td>g</td>\n",
       "      <td>1187</td>\n",
       "    </tr>\n",
       "    <tr>\n",
       "      <th>3</th>\n",
       "      <td>22.17</td>\n",
       "      <td>100.0</td>\n",
       "      <td>y</td>\n",
       "      <td>p</td>\n",
       "      <td>ff</td>\n",
       "      <td>ff</td>\n",
       "      <td>b</td>\n",
       "      <td>Missing</td>\n",
       "      <td>Missing</td>\n",
       "      <td>100.0</td>\n",
       "      <td>100.0</td>\n",
       "      <td>0</td>\n",
       "      <td>f</td>\n",
       "      <td>g</td>\n",
       "      <td>0</td>\n",
       "    </tr>\n",
       "    <tr>\n",
       "      <th>4</th>\n",
       "      <td>57.83</td>\n",
       "      <td>360.0</td>\n",
       "      <td>u</td>\n",
       "      <td>g</td>\n",
       "      <td>m</td>\n",
       "      <td>v</td>\n",
       "      <td>b</td>\n",
       "      <td>t</td>\n",
       "      <td>t</td>\n",
       "      <td>7.04</td>\n",
       "      <td>14.0</td>\n",
       "      <td>6</td>\n",
       "      <td>t</td>\n",
       "      <td>g</td>\n",
       "      <td>1332</td>\n",
       "    </tr>\n",
       "  </tbody>\n",
       "</table>\n",
       "</div>"
      ],
      "text/plain": [
       "      0      1  2  3   4   5  6        7        8      9      10 11 12 13  \\\n",
       "0  46.08  396.0  u  g   c   v  a        t        t    3.0  2.375  8  t  g   \n",
       "1  15.92  120.0  u  g   q   v  a        f        f  2.875  0.085  0  f  g   \n",
       "2  36.33   50.0  y  p   w   v  b        t        t  2.125  0.085  1  f  g   \n",
       "3  22.17  100.0  y  p  ff  ff  b  Missing  Missing  100.0  100.0  0  f  g   \n",
       "4  57.83  360.0  u  g   m   v  b        t        t   7.04   14.0  6  t  g   \n",
       "\n",
       "     14  \n",
       "0  4159  \n",
       "1     0  \n",
       "2  1187  \n",
       "3     0  \n",
       "4  1332  "
      ]
     },
     "execution_count": 122,
     "metadata": {},
     "output_type": "execute_result"
    }
   ],
   "source": [
    "p.DataFrame(pro.transform(X_train)).head()"
   ]
  },
  {
   "cell_type": "markdown",
   "id": "56cbae20",
   "metadata": {},
   "source": [
    "# Performing multivariate imputation KNN"
   ]
  },
  {
   "cell_type": "raw",
   "id": "45b49b2d",
   "metadata": {},
   "source": [
    "In this we just impute the missing value with the nearest neighbor of that point. It  is does not distort the distribution\n",
    "k-Nearest Neighbours (kNN) that identifies the neighboring points through a measure of distance and the missing values can be estimated using completed values of neighboring observations"
   ]
  },
  {
   "cell_type": "code",
   "execution_count": 126,
   "id": "9f6dc4a8",
   "metadata": {},
   "outputs": [],
   "source": [
    "X_train, X_test, y_train, y_test = train_test_split(\n",
    " df.drop('A16', axis=1), df['A16'], test_size=0.3,\n",
    " random_state=0)"
   ]
  },
  {
   "cell_type": "code",
   "execution_count": 127,
   "id": "d27d9fc2",
   "metadata": {},
   "outputs": [],
   "source": [
    "from sklearn.impute import KNNImputer\n",
    "knn=KNNImputer(n_neighbors=5) # here it will take average of 5 nearest neighbour "
   ]
  },
  {
   "cell_type": "code",
   "execution_count": 130,
   "id": "476591db",
   "metadata": {},
   "outputs": [
    {
     "data": {
      "text/plain": [
       "KNNImputer()"
      ]
     },
     "execution_count": 130,
     "metadata": {},
     "output_type": "execute_result"
    }
   ],
   "source": [
    "knn.fit(X_train[num])"
   ]
  },
  {
   "cell_type": "code",
   "execution_count": 132,
   "id": "0c75fd8b",
   "metadata": {},
   "outputs": [
    {
     "data": {
      "text/plain": [
       "array([[4.608e+01, 3.000e+00, 2.375e+00, 3.960e+02],\n",
       "       [1.592e+01, 2.875e+00, 8.500e-02, 1.200e+02],\n",
       "       [3.633e+01, 2.125e+00, 8.500e-02, 5.000e+01],\n",
       "       ...,\n",
       "       [1.958e+01, 6.650e-01, 1.665e+00, 2.200e+02],\n",
       "       [2.283e+01, 3.659e+00, 3.740e-01, 1.400e+02],\n",
       "       [4.058e+01, 3.290e+00, 3.500e+00, 4.000e+02]])"
      ]
     },
     "execution_count": 132,
     "metadata": {},
     "output_type": "execute_result"
    }
   ],
   "source": [
    "knn.transform(X_train[num])"
   ]
  },
  {
   "cell_type": "raw",
   "id": "2e1467f0",
   "metadata": {},
   "source": [
    "To is knn in categorical data we have to encode categorical then we can perform this step"
   ]
  }
 ],
 "metadata": {
  "kernelspec": {
   "display_name": "Python 3 (ipykernel)",
   "language": "python",
   "name": "python3"
  },
  "language_info": {
   "codemirror_mode": {
    "name": "ipython",
    "version": 3
   },
   "file_extension": ".py",
   "mimetype": "text/x-python",
   "name": "python",
   "nbconvert_exporter": "python",
   "pygments_lexer": "ipython3",
   "version": "3.9.7"
  }
 },
 "nbformat": 4,
 "nbformat_minor": 5
}
