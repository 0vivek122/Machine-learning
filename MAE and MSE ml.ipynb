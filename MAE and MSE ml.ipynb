{
 "cells": [
  {
   "cell_type": "code",
   "execution_count": 1,
   "id": "5290f91d",
   "metadata": {},
   "outputs": [],
   "source": [
    "import numpy as n\n",
    "import seaborn as sns"
   ]
  },
  {
   "cell_type": "code",
   "execution_count": 2,
   "id": "30d5f058",
   "metadata": {},
   "outputs": [],
   "source": [
    "x=n.array([1,2,3,4,5,6,7,8,9]) #creating a independent variable"
   ]
  },
  {
   "cell_type": "code",
   "execution_count": 4,
   "id": "e84da055",
   "metadata": {},
   "outputs": [],
   "source": [
    "y=n.array([1,2,3,4,5,6,7,8,9]) #creating a dependent variable"
   ]
  },
  {
   "cell_type": "code",
   "execution_count": 5,
   "id": "fe720130",
   "metadata": {},
   "outputs": [],
   "source": [
    "#here we can  see there is direct relation meaning x=y meaning "
   ]
  },
  {
   "cell_type": "markdown",
   "id": "579bed04",
   "metadata": {},
   "source": [
    "# #Checking the graph that is followed by cost fuction and slope "
   ]
  },
  {
   "cell_type": "markdown",
   "id": "bc2300e4",
   "metadata": {},
   "source": [
    "we known that best fit line will be y=x . So actually what is best fit line it is hte line which have minimum distance between the prediction we get from the line for that point and the orignal point. Here we know that slope is  one we get the best fit line . But here we verify that also by plotting it with slope"
   ]
  },
  {
   "cell_type": "code",
   "execution_count": 11,
   "id": "f587dfe9",
   "metadata": {},
   "outputs": [],
   "source": [
    "#what we will get after using diffrent slope\n",
    "m=n.linspace(-5,5,1000)\n",
    "#creating number for slopes"
   ]
  },
  {
   "cell_type": "code",
   "execution_count": 19,
   "id": "1126f355",
   "metadata": {
    "scrolled": true
   },
   "outputs": [],
   "source": [
    "l=[] #here we store the value of MSE for every value of slope\n",
    "for i in range(len(m)):\n",
    "    sum_=0\n",
    "    for j in  x:\n",
    "        s=(m[i]*j-j)**2 #M\n",
    "        sum_=s+sum_\n",
    "    mean=sum_/len(x) #MEA value for every single slope\n",
    "    l.append(mean)"
   ]
  },
  {
   "cell_type": "code",
   "execution_count": 20,
   "id": "be0f0d0d",
   "metadata": {},
   "outputs": [],
   "source": [
    "l = n.array([l])"
   ]
  },
  {
   "cell_type": "code",
   "execution_count": 25,
   "id": "e8508356",
   "metadata": {},
   "outputs": [
    {
     "data": {
      "text/plain": [
       "(1, 1000)"
      ]
     },
     "execution_count": 25,
     "metadata": {},
     "output_type": "execute_result"
    }
   ],
   "source": [
    "l.reshape "
   ]
  },
  {
   "cell_type": "markdown",
   "id": "679b7830",
   "metadata": {},
   "source": [
    "MSE(Mean squared error) for every slope so we have to select that MSE Which have minimum value and we have to fetch slope for\n",
    "that MSE for that we can draw graph for slope and MSE\n"
   ]
  },
  {
   "cell_type": "code",
   "execution_count": 29,
   "id": "737979f6",
   "metadata": {},
   "outputs": [
    {
     "data": {
      "text/plain": [
       "[<matplotlib.lines.Line2D at 0x282605699d0>]"
      ]
     },
     "execution_count": 29,
     "metadata": {},
     "output_type": "execute_result"
    },
    {
     "data": {
      "image/png": "[encoded data removed]",
      "text/plain": [
       "<Figure size 432x288 with 1 Axes>"
      ]
     },
     "metadata": {
      "needs_background": "light"
     },
     "output_type": "display_data"
    }
   ],
   "source": [
    "import matplotlib.pyplot as plt #This curve is also known as gradient descent curve\n",
    "plt.xlabel('slope')\n",
    "plt.ylabel('Mean Squared Error')\n",
    "plt.plot(m,l.reshape(1000)) "
   ]
  },
  {
   "cell_type": "markdown",
   "id": "6c255adf",
   "metadata": {},
   "source": [
    "# As we see that from graph that the value of y axis will be minimum at arround or at 1. So we get y=x statement or we proof that and how to get the value of slope is by convergence alogrithim"
   ]
  },
  {
   "cell_type": "code",
   "execution_count": 32,
   "id": "3524bf28",
   "metadata": {},
   "outputs": [],
   "source": [
    "#this we can do for MAE(Mean Absolute Error)\n",
    "l=[] #here we store the value of MAE(Mean Absolute Error) for every value of slope\n",
    "for i in range(len(m)):\n",
    "    sum_=0\n",
    "    for j in  x:\n",
    "        s=(m[i]*j-j)\n",
    "        if s<0:\n",
    "            s=-s\n",
    "        else:\n",
    "            pass\n",
    "        sum_=s+sum_\n",
    "    mean=sum_/len(x) #MAE(Mean Absolute Error) value for every single slope\n",
    "    l.append(mean)\n",
    "l = n.array([l])"
   ]
  },
  {
   "cell_type": "code",
   "execution_count": 33,
   "id": "2a8db061",
   "metadata": {},
   "outputs": [
    {
     "data": {
      "text/plain": [
       "[<matplotlib.lines.Line2D at 0x28260525e20>]"
      ]
     },
     "execution_count": 33,
     "metadata": {},
     "output_type": "execute_result"
    },
    {
     "data": {
      "image/png": "[encoded data removed]",
      "text/plain": [
       "<Figure size 432x288 with 1 Axes>"
      ]
     },
     "metadata": {
      "needs_background": "light"
     },
     "output_type": "display_data"
    }
   ],
   "source": [
    "plt.xlabel('slope')#This curve is also known as gradient descent curve\n",
    "plt.ylabel('MAE(Mean Absolute Error)')\n",
    "plt.plot(m,l.reshape(1000)) "
   ]
  },
  {
   "cell_type": "code",
   "execution_count": null,
   "id": "f894e985",
   "metadata": {},
   "outputs": [],
   "source": []
  }
 ],
 "metadata": {
  "kernelspec": {
   "display_name": "Python 3 (ipykernel)",
   "language": "python",
   "name": "python3"
  },
  "language_info": {
   "codemirror_mode": {
    "name": "ipython",
    "version": 3
   },
   "file_extension": ".py",
   "mimetype": "text/x-python",
   "name": "python",
   "nbconvert_exporter": "python",
   "pygments_lexer": "ipython3",
   "version": "3.9.7"
  }
 },
 "nbformat": 4,
 "nbformat_minor": 5
}
