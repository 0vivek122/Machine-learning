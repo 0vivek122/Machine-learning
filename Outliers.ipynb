{
 "cells": [
  {
   "cell_type": "markdown",
   "id": "70bf744b",
   "metadata": {},
   "source": [
    "# Ways to  deal with outliers"
   ]
  },
  {
   "cell_type": "code",
   "execution_count": 1,
   "id": "bc5715d0",
   "metadata": {},
   "outputs": [],
   "source": [
    "#Importing the dataset\n",
    "import pandas as p\n",
    "import numpy as n\n",
    "import matplotlib.pyplot as plt\n",
    "import seaborn as sns\n",
    "from sklearn.datasets import load_boston\n",
    "import warnings \n",
    "warnings.filterwarnings('ignore')"
   ]
  },
  {
   "cell_type": "code",
   "execution_count": 2,
   "id": "d798acfe",
   "metadata": {},
   "outputs": [],
   "source": [
    "boston=load_boston() #it is stored as dictionary\n",
    "df= p.DataFrame(boston['data'],columns=boston['feature_names']) #converting dictionary to data frame"
   ]
  },
  {
   "cell_type": "code",
   "execution_count": 3,
   "id": "ec30554b",
   "metadata": {
    "scrolled": false
   },
   "outputs": [
    {
     "data": {
      "text/html": [
       "<div>\n",
       "<style scoped>\n",
       "    .dataframe tbody tr th:only-of-type {\n",
       "        vertical-align: middle;\n",
       "    }\n",
       "\n",
       "    .dataframe tbody tr th {\n",
       "        vertical-align: top;\n",
       "    }\n",
       "\n",
       "    .dataframe thead th {\n",
       "        text-align: right;\n",
       "    }\n",
       "</style>\n",
       "<table border=\"1\" class=\"dataframe\">\n",
       "  <thead>\n",
       "    <tr style=\"text-align: right;\">\n",
       "      <th></th>\n",
       "      <th>CRIM</th>\n",
       "      <th>ZN</th>\n",
       "      <th>INDUS</th>\n",
       "      <th>CHAS</th>\n",
       "      <th>NOX</th>\n",
       "      <th>RM</th>\n",
       "      <th>AGE</th>\n",
       "      <th>DIS</th>\n",
       "      <th>RAD</th>\n",
       "      <th>TAX</th>\n",
       "      <th>PTRATIO</th>\n",
       "      <th>B</th>\n",
       "      <th>LSTAT</th>\n",
       "    </tr>\n",
       "  </thead>\n",
       "  <tbody>\n",
       "    <tr>\n",
       "      <th>0</th>\n",
       "      <td>0.00632</td>\n",
       "      <td>18.0</td>\n",
       "      <td>2.31</td>\n",
       "      <td>0.0</td>\n",
       "      <td>0.538</td>\n",
       "      <td>6.575</td>\n",
       "      <td>65.2</td>\n",
       "      <td>4.0900</td>\n",
       "      <td>1.0</td>\n",
       "      <td>296.0</td>\n",
       "      <td>15.3</td>\n",
       "      <td>396.90</td>\n",
       "      <td>4.98</td>\n",
       "    </tr>\n",
       "    <tr>\n",
       "      <th>1</th>\n",
       "      <td>0.02731</td>\n",
       "      <td>0.0</td>\n",
       "      <td>7.07</td>\n",
       "      <td>0.0</td>\n",
       "      <td>0.469</td>\n",
       "      <td>6.421</td>\n",
       "      <td>78.9</td>\n",
       "      <td>4.9671</td>\n",
       "      <td>2.0</td>\n",
       "      <td>242.0</td>\n",
       "      <td>17.8</td>\n",
       "      <td>396.90</td>\n",
       "      <td>9.14</td>\n",
       "    </tr>\n",
       "    <tr>\n",
       "      <th>2</th>\n",
       "      <td>0.02729</td>\n",
       "      <td>0.0</td>\n",
       "      <td>7.07</td>\n",
       "      <td>0.0</td>\n",
       "      <td>0.469</td>\n",
       "      <td>7.185</td>\n",
       "      <td>61.1</td>\n",
       "      <td>4.9671</td>\n",
       "      <td>2.0</td>\n",
       "      <td>242.0</td>\n",
       "      <td>17.8</td>\n",
       "      <td>392.83</td>\n",
       "      <td>4.03</td>\n",
       "    </tr>\n",
       "    <tr>\n",
       "      <th>3</th>\n",
       "      <td>0.03237</td>\n",
       "      <td>0.0</td>\n",
       "      <td>2.18</td>\n",
       "      <td>0.0</td>\n",
       "      <td>0.458</td>\n",
       "      <td>6.998</td>\n",
       "      <td>45.8</td>\n",
       "      <td>6.0622</td>\n",
       "      <td>3.0</td>\n",
       "      <td>222.0</td>\n",
       "      <td>18.7</td>\n",
       "      <td>394.63</td>\n",
       "      <td>2.94</td>\n",
       "    </tr>\n",
       "    <tr>\n",
       "      <th>4</th>\n",
       "      <td>0.06905</td>\n",
       "      <td>0.0</td>\n",
       "      <td>2.18</td>\n",
       "      <td>0.0</td>\n",
       "      <td>0.458</td>\n",
       "      <td>7.147</td>\n",
       "      <td>54.2</td>\n",
       "      <td>6.0622</td>\n",
       "      <td>3.0</td>\n",
       "      <td>222.0</td>\n",
       "      <td>18.7</td>\n",
       "      <td>396.90</td>\n",
       "      <td>5.33</td>\n",
       "    </tr>\n",
       "  </tbody>\n",
       "</table>\n",
       "</div>"
      ],
      "text/plain": [
       "      CRIM    ZN  INDUS  CHAS    NOX     RM   AGE     DIS  RAD    TAX  \\\n",
       "0  0.00632  18.0   2.31   0.0  0.538  6.575  65.2  4.0900  1.0  296.0   \n",
       "1  0.02731   0.0   7.07   0.0  0.469  6.421  78.9  4.9671  2.0  242.0   \n",
       "2  0.02729   0.0   7.07   0.0  0.469  7.185  61.1  4.9671  2.0  242.0   \n",
       "3  0.03237   0.0   2.18   0.0  0.458  6.998  45.8  6.0622  3.0  222.0   \n",
       "4  0.06905   0.0   2.18   0.0  0.458  7.147  54.2  6.0622  3.0  222.0   \n",
       "\n",
       "   PTRATIO       B  LSTAT  \n",
       "0     15.3  396.90   4.98  \n",
       "1     17.8  396.90   9.14  \n",
       "2     17.8  392.83   4.03  \n",
       "3     18.7  394.63   2.94  \n",
       "4     18.7  396.90   5.33  "
      ]
     },
     "execution_count": 3,
     "metadata": {},
     "output_type": "execute_result"
    }
   ],
   "source": [
    "df.head()"
   ]
  },
  {
   "cell_type": "code",
   "execution_count": 77,
   "id": "571787cd",
   "metadata": {},
   "outputs": [
    {
     "data": {
      "text/plain": [
       "<AxesSubplot:xlabel='RM', ylabel='Density'>"
      ]
     },
     "execution_count": 77,
     "metadata": {},
     "output_type": "execute_result"
    },
    {
     "data": {
      "image/png": "[encoded data removed]",
      "text/plain": [
       "<Figure size 432x288 with 1 Axes>"
      ]
     },
     "metadata": {
      "needs_background": "light"
     },
     "output_type": "display_data"
    }
   ],
   "source": [
    "sns.distplot(df['RM'])"
   ]
  },
  {
   "cell_type": "code",
   "execution_count": 70,
   "id": "5fde91f3",
   "metadata": {},
   "outputs": [
    {
     "data": {
      "text/plain": [
       "<AxesSubplot:xlabel='RM'>"
      ]
     },
     "execution_count": 70,
     "metadata": {},
     "output_type": "execute_result"
    },
    {
     "data": {
      "image/png": "[encoded data removed]",
      "text/plain": [
       "<Figure size 432x288 with 1 Axes>"
      ]
     },
     "metadata": {
      "needs_background": "light"
     },
     "output_type": "display_data"
    }
   ],
   "source": [
    "#As we can see outliers \n",
    "sns.boxplot(df['RM'])"
   ]
  },
  {
   "cell_type": "markdown",
   "id": "d2a65803",
   "metadata": {},
   "source": [
    "# Trimming outliers from the dataset"
   ]
  },
  {
   "cell_type": "code",
   "execution_count": 49,
   "id": "440109d7",
   "metadata": {},
   "outputs": [],
   "source": [
    "def outliers(data):\n",
    "    IQR=data.quantile(0.75)-data.quantile(0.25)\n",
    "    lr=data.quantile(0.25)-(1.5*IQR) #lower range\n",
    "    hr=data.quantile(0.70)+(1.5*IQR) #higher range\n",
    "    return data.loc[~(n.where(data<lr,True,n.where(data>hr,True,False)))] #Without outliers"
   ]
  },
  {
   "cell_type": "code",
   "execution_count": 50,
   "id": "3f8edd20",
   "metadata": {},
   "outputs": [
    {
     "data": {
      "text/plain": [
       "0      6.575\n",
       "1      6.421\n",
       "2      7.185\n",
       "3      6.998\n",
       "4      7.147\n",
       "       ...  \n",
       "501    6.593\n",
       "502    6.120\n",
       "503    6.976\n",
       "504    6.794\n",
       "505    6.030\n",
       "Name: RM, Length: 472, dtype: float64"
      ]
     },
     "execution_count": 50,
     "metadata": {},
     "output_type": "execute_result"
    }
   ],
   "source": [
    "outliers(df['RM']) #as we csn there is no outliers"
   ]
  },
  {
   "cell_type": "code",
   "execution_count": 51,
   "id": "adb66c3b",
   "metadata": {},
   "outputs": [
    {
     "data": {
      "text/plain": [
       "<AxesSubplot:xlabel='RM'>"
      ]
     },
     "execution_count": 51,
     "metadata": {},
     "output_type": "execute_result"
    },
    {
     "data": {
      "image/png": "[encoded data removed]",
      "text/plain": [
       "<Figure size 432x288 with 1 Axes>"
      ]
     },
     "metadata": {
      "needs_background": "light"
     },
     "output_type": "display_data"
    }
   ],
   "source": [
    "sns.boxplot(outliers(df['RM']))"
   ]
  },
  {
   "cell_type": "code",
   "execution_count": 97,
   "id": "4b13f55c",
   "metadata": {},
   "outputs": [],
   "source": [
    "#We can find outlier with using mean and standard deviation in case of IQR\n",
    "def outliers(data,k):\n",
    "    lr=data.mean()-(data.std()*k) #where n is number\n",
    "    hr=data.mean()+(data.std()*k)\n",
    "    return data.loc[~(n.where(data<lr,True,n.where(data>hr,True,False)))] #Without outliers"
   ]
  },
  {
   "cell_type": "code",
   "execution_count": 99,
   "id": "9d6b1e26",
   "metadata": {},
   "outputs": [
    {
     "data": {
      "text/plain": [
       "0      6.575\n",
       "1      6.421\n",
       "2      7.185\n",
       "3      6.998\n",
       "4      7.147\n",
       "       ...  \n",
       "501    6.593\n",
       "502    6.120\n",
       "503    6.976\n",
       "504    6.794\n",
       "505    6.030\n",
       "Name: RM, Length: 449, dtype: float64"
      ]
     },
     "execution_count": 99,
     "metadata": {},
     "output_type": "execute_result"
    }
   ],
   "source": [
    "outliers(df['RM'],1.5)"
   ]
  },
  {
   "cell_type": "markdown",
   "id": "e4480d0e",
   "metadata": {},
   "source": [
    "# Performing winsorization\n"
   ]
  },
  {
   "cell_type": "markdown",
   "id": "9c6a06b8",
   "metadata": {},
   "source": [
    "Winsorizing is different from trimming because the extreme values are not removed, but are instead replaced by other values.\n",
    "Data greater then qurantile 90 percent is replace by value at 90 qurantile similarly less then qurantile 5 percent is replace by value at 5 qurantile"
   ]
  },
  {
   "cell_type": "code",
   "execution_count": 105,
   "id": "814a89ec",
   "metadata": {},
   "outputs": [],
   "source": [
    "def fn(data,lw,h):\n",
    "    lr=data.quantile(lw)\n",
    "    hr=data.quantile(h)\n",
    "    return n.where(data<lr,lr,n.where(data>hr,hr,data))"
   ]
  },
  {
   "cell_type": "code",
   "execution_count": 104,
   "id": "053bdb5d",
   "metadata": {},
   "outputs": [
    {
     "data": {
      "text/plain": [
       "<AxesSubplot:>"
      ]
     },
     "execution_count": 104,
     "metadata": {},
     "output_type": "execute_result"
    },
    {
     "data": {
      "image/png": "[encoded data removed]",
      "text/plain": [
       "<Figure size 720x360 with 2 Axes>"
      ]
     },
     "metadata": {
      "needs_background": "light"
     },
     "output_type": "display_data"
    }
   ],
   "source": [
    "plt.figure(figsize=(10,5))\n",
    "plt.subplot(1,2,1)\n",
    "sns.boxplot(df['RM'])\n",
    "plt.subplot(1,2,2)\n",
    "sns.boxplot(fn(df['RM'],0.05,0.95))"
   ]
  },
  {
   "cell_type": "markdown",
   "id": "142caf27",
   "metadata": {},
   "source": [
    "# Capping the variable at arbitrary maximum and minimum values\n"
   ]
  },
  {
   "cell_type": "raw",
   "id": "4eabc82d",
   "metadata": {},
   "source": [
    "Similarly to winsorization, we can replace the extreme values by values closer to other\n",
    "values in the variable, by determining the maximum and minimum boundaries with the\n",
    "mean plus or minus the standard deviation, or the inter-quartile range proximity rule."
   ]
  },
  {
   "cell_type": "code",
   "execution_count": 21,
   "id": "27d07de7",
   "metadata": {},
   "outputs": [],
   "source": [
    "def outliers(data):\n",
    "    IQR=data.quantile(0.75)-data.quantile(0.25)\n",
    "    lr=data.quantile(0.25)-(1.5*IQR) #lower range\n",
    "    hr=data.quantile(0.75)+(1.5*IQR) #higher range\n",
    "    return n.where(data<lr,lr,n.where(data>hr,hr,data))\n",
    "def outliers_mean(data,k):\n",
    "    lr=data.mean()-(data.std()*k) #where k is number\n",
    "    hr=data.mean()+(data.std()*k)\n",
    "    return n.where(data<lr,lr,n.where(data>hr,hr,data))"
   ]
  },
  {
   "cell_type": "code",
   "execution_count": 26,
   "id": "ac6dd85b",
   "metadata": {},
   "outputs": [
    {
     "data": {
      "text/plain": [
       "<AxesSubplot:>"
      ]
     },
     "execution_count": 26,
     "metadata": {},
     "output_type": "execute_result"
    },
    {
     "data": {
      "image/png": "[encoded data removed]",
      "text/plain": [
       "<Figure size 432x288 with 1 Axes>"
      ]
     },
     "metadata": {
      "needs_background": "light"
     },
     "output_type": "display_data"
    }
   ],
   "source": [
    "sns.boxplot(outliers(df['CRIM'])) "
   ]
  },
  {
   "cell_type": "code",
   "execution_count": 24,
   "id": "3af51942",
   "metadata": {},
   "outputs": [
    {
     "data": {
      "text/plain": [
       "<AxesSubplot:xlabel='CRIM'>"
      ]
     },
     "execution_count": 24,
     "metadata": {},
     "output_type": "execute_result"
    },
    {
     "data": {
      "image/png": "[encoded data removed]",
      "text/plain": [
       "<Figure size 432x288 with 1 Axes>"
      ]
     },
     "metadata": {
      "needs_background": "light"
     },
     "output_type": "display_data"
    }
   ],
   "source": [
    "sns.boxplot(df['CRIM'])"
   ]
  },
  {
   "cell_type": "code",
   "execution_count": 42,
   "id": "024e873f",
   "metadata": {},
   "outputs": [
    {
     "data": {
      "text/plain": [
       "<AxesSubplot:ylabel='Density'>"
      ]
     },
     "execution_count": 42,
     "metadata": {},
     "output_type": "execute_result"
    },
    {
     "data": {
      "image/png": "[encoded data removed]",
      "text/plain": [
       "<Figure size 720x360 with 2 Axes>"
      ]
     },
     "metadata": {
      "needs_background": "light"
     },
     "output_type": "display_data"
    }
   ],
   "source": [
    "plt.figure(figsize=(10,5))\n",
    "plt.subplot(1,2,1)\n",
    "sns.kdeplot(df['CRIM'])\n",
    "plt.subplot(1,2,2)\n",
    "sns.kdeplot(outliers(df['CRIM']))"
   ]
  },
  {
   "cell_type": "raw",
   "id": "7ae5789a",
   "metadata": {},
   "source": [
    "here is one problem in this and winsorization when we have outliers in one tail so it will create the bump that is shown in this graph ."
   ]
  },
  {
   "cell_type": "markdown",
   "id": "6f138356",
   "metadata": {},
   "source": [
    "# Performing zero-coding – capping the variable at zero"
   ]
  },
  {
   "cell_type": "raw",
   "id": "62f55111",
   "metadata": {},
   "source": [
    "Zero-coding is a variant of bottom-coding and refers to\n",
    "the process of capping, usually the lower value of the variable, at zero. It is commonly used\n",
    "for variables that cannot take negative values, such as age or income."
   ]
  },
  {
   "cell_type": "code",
   "execution_count": 43,
   "id": "ad4aadc3",
   "metadata": {},
   "outputs": [],
   "source": [
    "#creating a dummy dataset\n",
    "n.random.seed(29)\n",
    "x=n.random.randn(200)\n",
    "y=n.random.randn(200)*2\n",
    "z=n.random.randn(200)*6+5"
   ]
  },
  {
   "cell_type": "code",
   "execution_count": 44,
   "id": "d518be6a",
   "metadata": {},
   "outputs": [],
   "source": [
    "df=p.DataFrame({'x':x,\"y\":y,'z':z})"
   ]
  },
  {
   "cell_type": "code",
   "execution_count": 45,
   "id": "77ea1a3a",
   "metadata": {},
   "outputs": [
    {
     "data": {
      "text/html": [
       "<div>\n",
       "<style scoped>\n",
       "    .dataframe tbody tr th:only-of-type {\n",
       "        vertical-align: middle;\n",
       "    }\n",
       "\n",
       "    .dataframe tbody tr th {\n",
       "        vertical-align: top;\n",
       "    }\n",
       "\n",
       "    .dataframe thead th {\n",
       "        text-align: right;\n",
       "    }\n",
       "</style>\n",
       "<table border=\"1\" class=\"dataframe\">\n",
       "  <thead>\n",
       "    <tr style=\"text-align: right;\">\n",
       "      <th></th>\n",
       "      <th>x</th>\n",
       "      <th>y</th>\n",
       "      <th>z</th>\n",
       "    </tr>\n",
       "  </thead>\n",
       "  <tbody>\n",
       "    <tr>\n",
       "      <th>0</th>\n",
       "      <td>-0.417482</td>\n",
       "      <td>2.903260</td>\n",
       "      <td>4.634786</td>\n",
       "    </tr>\n",
       "    <tr>\n",
       "      <th>1</th>\n",
       "      <td>0.706032</td>\n",
       "      <td>0.930279</td>\n",
       "      <td>10.236479</td>\n",
       "    </tr>\n",
       "    <tr>\n",
       "      <th>2</th>\n",
       "      <td>1.915985</td>\n",
       "      <td>0.688840</td>\n",
       "      <td>11.964026</td>\n",
       "    </tr>\n",
       "    <tr>\n",
       "      <th>3</th>\n",
       "      <td>-2.141755</td>\n",
       "      <td>-0.511348</td>\n",
       "      <td>13.884419</td>\n",
       "    </tr>\n",
       "    <tr>\n",
       "      <th>4</th>\n",
       "      <td>0.719057</td>\n",
       "      <td>-1.611499</td>\n",
       "      <td>18.030882</td>\n",
       "    </tr>\n",
       "  </tbody>\n",
       "</table>\n",
       "</div>"
      ],
      "text/plain": [
       "          x         y          z\n",
       "0 -0.417482  2.903260   4.634786\n",
       "1  0.706032  0.930279  10.236479\n",
       "2  1.915985  0.688840  11.964026\n",
       "3 -2.141755 -0.511348  13.884419\n",
       "4  0.719057 -1.611499  18.030882"
      ]
     },
     "execution_count": 45,
     "metadata": {},
     "output_type": "execute_result"
    }
   ],
   "source": [
    "df.head()"
   ]
  },
  {
   "cell_type": "code",
   "execution_count": 51,
   "id": "43d3a0bf",
   "metadata": {},
   "outputs": [
    {
     "data": {
      "text/plain": [
       "x   -3.505401\n",
       "y   -4.901451\n",
       "z   -8.863583\n",
       "dtype: float64"
      ]
     },
     "execution_count": 51,
     "metadata": {},
     "output_type": "execute_result"
    }
   ],
   "source": [
    "df.min() #minmum values are negative"
   ]
  },
  {
   "cell_type": "code",
   "execution_count": 55,
   "id": "8f800dc7",
   "metadata": {},
   "outputs": [
    {
     "data": {
      "text/plain": [
       "array([[<AxesSubplot:title={'center':'x'}>,\n",
       "        <AxesSubplot:title={'center':'y'}>],\n",
       "       [<AxesSubplot:title={'center':'z'}>, <AxesSubplot:>]], dtype=object)"
      ]
     },
     "execution_count": 55,
     "metadata": {},
     "output_type": "execute_result"
    },
    {
     "data": {
      "text/plain": [
       "<Figure size 1080x360 with 0 Axes>"
      ]
     },
     "metadata": {},
     "output_type": "display_data"
    },
    {
     "data": {
      "image/png": "[encoded data removed]",
      "text/plain": [
       "<Figure size 432x288 with 4 Axes>"
      ]
     },
     "metadata": {
      "needs_background": "light"
     },
     "output_type": "display_data"
    }
   ],
   "source": [
    "plt.figure(figsize=(15,5))\n",
    "df.hist(bins= 30)"
   ]
  },
  {
   "cell_type": "code",
   "execution_count": 56,
   "id": "4cf1aa09",
   "metadata": {},
   "outputs": [],
   "source": [
    "#AS we can see the negtive values"
   ]
  },
  {
   "cell_type": "code",
   "execution_count": 59,
   "id": "ce12b12a",
   "metadata": {},
   "outputs": [],
   "source": [
    "#Replacing the negative values with zeros\n",
    "df['x'].loc[df['x']<0]=0 \n",
    "df['y'].loc[df['y']<0]=0\n",
    "df['z'].loc[df['z']<0]=0"
   ]
  },
  {
   "cell_type": "code",
   "execution_count": 60,
   "id": "098a018e",
   "metadata": {},
   "outputs": [
    {
     "data": {
      "text/plain": [
       "array([[<AxesSubplot:title={'center':'x'}>,\n",
       "        <AxesSubplot:title={'center':'y'}>],\n",
       "       [<AxesSubplot:title={'center':'z'}>, <AxesSubplot:>]], dtype=object)"
      ]
     },
     "execution_count": 60,
     "metadata": {},
     "output_type": "execute_result"
    },
    {
     "data": {
      "text/plain": [
       "<Figure size 1080x360 with 0 Axes>"
      ]
     },
     "metadata": {},
     "output_type": "display_data"
    },
    {
     "data": {
      "image/png": "[encoded data removed]",
      "text/plain": [
       "<Figure size 432x288 with 4 Axes>"
      ]
     },
     "metadata": {
      "needs_background": "light"
     },
     "output_type": "display_data"
    }
   ],
   "source": [
    "plt.figure(figsize=(15,5))\n",
    "df.hist(bins= 30)"
   ]
  },
  {
   "cell_type": "code",
   "execution_count": 61,
   "id": "9e039a76",
   "metadata": {},
   "outputs": [],
   "source": [
    "#now we can see increase in the nuber of zero values present "
   ]
  },
  {
   "cell_type": "code",
   "execution_count": null,
   "id": "a2daeea0",
   "metadata": {},
   "outputs": [],
   "source": []
  }
 ],
 "metadata": {
  "kernelspec": {
   "display_name": "Python 3 (ipykernel)",
   "language": "python",
   "name": "python3"
  },
  "language_info": {
   "codemirror_mode": {
    "name": "ipython",
    "version": 3
   },
   "file_extension": ".py",
   "mimetype": "text/x-python",
   "name": "python",
   "nbconvert_exporter": "python",
   "pygments_lexer": "ipython3",
   "version": "3.9.7"
  }
 },
 "nbformat": 4,
 "nbformat_minor": 5
}
